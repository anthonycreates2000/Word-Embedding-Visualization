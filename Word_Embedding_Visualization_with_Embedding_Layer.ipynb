{
  "nbformat": 4,
  "nbformat_minor": 0,
  "metadata": {
    "colab": {
      "provenance": [],
      "authorship_tag": "ABX9TyPsMnNK+VD89IEZAEwmWoGl"
    },
    "kernelspec": {
      "name": "python3",
      "display_name": "Python 3"
    },
    "language_info": {
      "name": "python"
    }
  },
  "cells": [
    {
      "cell_type": "markdown",
      "source": [
        "# Word Embedding Visualizations.\n",
        "\n",
        "Name: Anthony Kevin Oktavius\n",
        "\n",
        "Here, we'll experiment with various embedding layer, with these following techniques.\n",
        "\n",
        "* TF-IDF\n",
        "* Count Vectorizer\n",
        "* Word2Vec\n",
        "* Neural network embedding layer.\n",
        "\n",
        "As time passes, I'll try to add various  techniques. We also use dimensionality reduction technique to reduce the dimension of each layers, so we can visualize the relationshop between each words with matplotlib."
      ],
      "metadata": {
        "id": "sNWHeIp4459C"
      }
    },
    {
      "cell_type": "markdown",
      "source": [
        "Library Import"
      ],
      "metadata": {
        "id": "7WtfEkrp7ptb"
      }
    },
    {
      "cell_type": "code",
      "execution_count": 1,
      "metadata": {
        "id": "fm_rnRxy0vs5"
      },
      "outputs": [],
      "source": [
        "import numpy as np\n",
        "import zipfile\n",
        "import gc\n",
        "import pickle\n",
        "import cv2\n",
        "import math\n",
        "import warnings\n",
        "import random\n",
        "import os\n",
        "import glob\n",
        "import pandas as pd\n",
        "import matplotlib.pyplot as plt\n",
        "import seaborn as sns\n",
        "import albumentations as A\n",
        "import torchvision\n",
        "import torchvision.transforms.functional as TF\n",
        "import torchvision.transforms as transforms\n",
        "import torch.utils.data as data_utils\n",
        "import torch\n",
        "import torchvision\n",
        "import torchvision.transforms as transforms\n",
        "import torch.optim as optim\n",
        "import torch.nn as nn\n",
        "# import torchmetrics\n",
        "import torch.nn.functional as F\n",
        "import PIL\n",
        "import torch.utils.data as data_utils\n",
        "import pickle\n",
        "import collections\n",
        "\n",
        "# import pytorch_lightning as pl\n",
        "import imutils\n",
        "import zipfile\n",
        "\n",
        "from wordcloud import WordCloud\n",
        "from PIL import Image\n",
        "from torch.utils.data import Dataset\n",
        "from collections import defaultdict\n",
        "from sklearn.preprocessing import LabelBinarizer\n",
        "from sklearn.model_selection import train_test_split\n",
        "from sklearn.metrics import classification_report\n",
        "from tensorflow.python.client import device_lib\n",
        "from zipfile import ZipFile\n",
        "from IPython import display\n",
        "from torchvision import models, transforms\n",
        "from google.colab.patches import cv2_imshow\n",
        "from sklearn.metrics import confusion_matrix, roc_curve\n",
        "from sklearn.feature_extraction.text import CountVectorizer\n",
        "from google.colab.patches import cv2_imshow"
      ]
    },
    {
      "cell_type": "markdown",
      "source": [
        "Dataset Loading with OpinRank dataset."
      ],
      "metadata": {
        "id": "Kqql0aI8GMZH"
      }
    },
    {
      "cell_type": "code",
      "source": [
        "! wget https://www.cs.cmu.edu/~./enron/enron_mail_20150507.tar.gz"
      ],
      "metadata": {
        "colab": {
          "base_uri": "https://localhost:8080/"
        },
        "id": "McpD-7naGMSA",
        "outputId": "de963593-b394-44ee-a00b-31c49dbca373"
      },
      "execution_count": 2,
      "outputs": [
        {
          "output_type": "stream",
          "name": "stdout",
          "text": [
            "--2023-09-28 14:47:35--  https://www.cs.cmu.edu/~./enron/enron_mail_20150507.tar.gz\n",
            "Resolving www.cs.cmu.edu (www.cs.cmu.edu)... 128.2.42.95\n",
            "Connecting to www.cs.cmu.edu (www.cs.cmu.edu)|128.2.42.95|:443... connected.\n",
            "HTTP request sent, awaiting response... 200 OK\n",
            "Length: 443254787 (423M) [application/x-gzip]\n",
            "Saving to: ‘enron_mail_20150507.tar.gz’\n",
            "\n",
            "enron_mail_20150507 100%[===================>] 422.72M  1.57MB/s    in 4m 34s  \n",
            "\n",
            "2023-09-28 14:52:10 (1.54 MB/s) - ‘enron_mail_20150507.tar.gz’ saved [443254787/443254787]\n",
            "\n"
          ]
        }
      ]
    },
    {
      "cell_type": "markdown",
      "source": [
        "Unzip the dataset in tar file format."
      ],
      "metadata": {
        "id": "0Nwa7C1bPX03"
      }
    },
    {
      "cell_type": "code",
      "source": [
        "! tar -xzf /content/enron_mail_20150507.tar.gz"
      ],
      "metadata": {
        "id": "gkm9YuqOOpuk"
      },
      "execution_count": 3,
      "outputs": []
    },
    {
      "cell_type": "markdown",
      "source": [
        "## Data Preparation"
      ],
      "metadata": {
        "id": "NfU-zj5VJtkY"
      }
    },
    {
      "cell_type": "markdown",
      "source": [
        "Gather all of the email paths from all-documents folder."
      ],
      "metadata": {
        "id": "Vt0yDlpnU9r2"
      }
    },
    {
      "cell_type": "code",
      "source": [
        "root_path = \"maildir/\"\n",
        "email_paths_from_all_documents_folder = glob.glob(os.path.join(root_path, \"*/all_documents/*.\"))\n",
        "print(email_paths_from_all_documents_folder[:10])"
      ],
      "metadata": {
        "colab": {
          "base_uri": "https://localhost:8080/"
        },
        "id": "Es-jNkI7VCmg",
        "outputId": "bffb3c91-3c84-4961-dbba-72b7f230fd78"
      },
      "execution_count": 4,
      "outputs": [
        {
          "output_type": "stream",
          "name": "stdout",
          "text": [
            "['maildir/whalley-g/all_documents/54.', 'maildir/whalley-g/all_documents/226.', 'maildir/whalley-g/all_documents/344.', 'maildir/whalley-g/all_documents/302.', 'maildir/whalley-g/all_documents/299.', 'maildir/whalley-g/all_documents/64.', 'maildir/whalley-g/all_documents/193.', 'maildir/whalley-g/all_documents/103.', 'maildir/whalley-g/all_documents/104.', 'maildir/whalley-g/all_documents/358.']\n"
          ]
        }
      ]
    },
    {
      "cell_type": "markdown",
      "source": [
        "Get body email data, after X-Filename."
      ],
      "metadata": {
        "id": "9EtKQZn9SCd2"
      }
    },
    {
      "cell_type": "code",
      "source": [
        "print(\"Sample Email data: \")\n",
        "\n",
        "def read_file(path):\n",
        "  return open(path, \"r\", errors='ignore')\n",
        "\n",
        "def get_removed_components_email_text(text):\n",
        "  texts_per_line = text.split(\"\\n\")\n",
        "\n",
        "  full_email_text_per_line = []\n",
        "\n",
        "  email_components = [\n",
        "    \"Message-ID: \", \"Date: \", \"From: \",\n",
        "    \"To: \", \"Subject: \", \"Mime-Version: \",\n",
        "    \"Content-Type: \", \"Content-Transfer-Encoding: \", \"X-From: \",\n",
        "    \"X-cc: \", \"X-bcc: \", \"X-Folder: \", \"X-FileName: \",\n",
        "    \"X-Origin: \", \"X-Filename: \", \"cc: \", \"@enron.com\",\n",
        "  ]\n",
        "\n",
        "  for text_per_line in text.split(\"\\n\"):\n",
        "    is_exist_component = False\n",
        "    for component in email_components:\n",
        "      if text_per_line.find(component) != -1:\n",
        "        is_exist_component = True\n",
        "        break\n",
        "    if is_exist_component == False:\n",
        "      full_email_text_per_line.append(text_per_line)\n",
        "\n",
        "  return \" \".join(full_email_text_per_line)\n",
        "\n",
        "sample_file = read_file(email_paths_from_all_documents_folder[0])\n",
        "sample_body_email_data = get_removed_components_email_text(sample_file.read())\n",
        "\n",
        "print(sample_body_email_data)"
      ],
      "metadata": {
        "id": "EbYsRl1hTz9u",
        "colab": {
          "base_uri": "https://localhost:8080/"
        },
        "outputId": "8d5430a4-bc80-47a7-fd59-bc85088e912f"
      },
      "execution_count": 67,
      "outputs": [
        {
          "output_type": "stream",
          "name": "stdout",
          "text": [
            "Sample Email data: \n",
            " Following please find the Daily EnronOnline Executive Summary.  EnronOnline Executive Summary for 12/04/00 Transaction Summary\t External Transactions Today\t5,500 Average Daily External Transactions (30 day Trailing Avg)\t4,097 Total Life to Date Transactions\t493,715  EnronOnline Daily % of Entity's Total Transactions for 12/04/00\tTrans\tPercent Enron North America\t4,957\t80% Enron Europe Limited\t119\t27% Global Products\t224\t34% Enron Metals\t200\t8%  EnronOnline Percentage of Total Corporate Transactions  (30 day Trailing Avg)\t54%  Gross Notional Value of EnronOnline Transactions\tTotal Today\t6,718,666,961 MTD\t11,437,759,254 LTD\t290,608,284,119 Average Daily Notional Value (30 Day Trailing Avg)\t3,095,165,757 \t Notional Revenue from Physical Flows to Date\t19,315,426,224  Counterparties, Users, and Products Offered\t Counterparties having transacted to date\t593 New Counterparties transacting for the first time today\t2 Number of Products Offered Today\t1,138 Total Number of External Users Logged on Today\t3,225 Average # of External Users logged on (30 day Trailing Avg)\t2,890\n"
          ]
        }
      ]
    },
    {
      "cell_type": "markdown",
      "source": [
        "Putting it all together"
      ],
      "metadata": {
        "id": "SC9M0RBcb00D"
      }
    },
    {
      "cell_type": "code",
      "source": [
        "def get_dataset():\n",
        "  root_path = \"maildir/\"\n",
        "  email_paths_from_all_documents_folder = glob.glob(os.path.join(root_path, \"*/all_documents/*.\"))\n",
        "\n",
        "  dataset = []\n",
        "\n",
        "  for email_path in email_paths_from_all_documents_folder:\n",
        "    file_ = read_file(email_path)\n",
        "    email_body = get_removed_components_email_text(file_.read())\n",
        "    dataset.append(email_body)\n",
        "\n",
        "  return dataset\n",
        "\n",
        "dataset = get_dataset()\n",
        "print(f\"Number of data: {len(dataset)}\")\n",
        "dataset[:10]"
      ],
      "metadata": {
        "colab": {
          "base_uri": "https://localhost:8080/"
        },
        "id": "weowlaCPb0hI",
        "outputId": "24ef4246-7340-4de1-ebcb-dc6100570aaf"
      },
      "execution_count": 69,
      "outputs": [
        {
          "output_type": "stream",
          "name": "stdout",
          "text": [
            "Number of data: 128103\n"
          ]
        },
        {
          "output_type": "execute_result",
          "data": {
            "text/plain": [
              "[\" Following please find the Daily EnronOnline Executive Summary.  EnronOnline Executive Summary for 12/04/00 Transaction Summary\\t External Transactions Today\\t5,500 Average Daily External Transactions (30 day Trailing Avg)\\t4,097 Total Life to Date Transactions\\t493,715  EnronOnline Daily % of Entity's Total Transactions for 12/04/00\\tTrans\\tPercent Enron North America\\t4,957\\t80% Enron Europe Limited\\t119\\t27% Global Products\\t224\\t34% Enron Metals\\t200\\t8%  EnronOnline Percentage of Total Corporate Transactions  (30 day Trailing Avg)\\t54%  Gross Notional Value of EnronOnline Transactions\\tTotal Today\\t6,718,666,961 MTD\\t11,437,759,254 LTD\\t290,608,284,119 Average Daily Notional Value (30 Day Trailing Avg)\\t3,095,165,757 \\t Notional Revenue from Physical Flows to Date\\t19,315,426,224  Counterparties, Users, and Products Offered\\t Counterparties having transacted to date\\t593 New Counterparties transacting for the first time today\\t2 Number of Products Offered Today\\t1,138 Total Number of External Users Logged on Today\\t3,225 Average # of External Users logged on (30 day Trailing Avg)\\t2,890\",\n",
              " ' The EES VaR for today is $15.6 million, up from $14.0 million yesterday, due  to the additional short positions added at NP and SP in the Power West  portfolio.  The VaR should decrease once the short positions associated with  the University of California facilities are removed.',\n",
              " \" Hello Greg.? My accounting group in Boston has informed me that the $100k  consulting invoice dated April 3 remains outstanding.? I'd appreciate your  following up to find out status.? Thanks in advance.? Neil.  ? \",\n",
              " ' Greg,   You and I met at your office last summer to discuss Aprimo\\'s Marketing  Management Solution. At the time, you indicated that there would be other  people at Enron that I should speak with. My assigned territory changed  shortly after our meeting, and I did not follow-up on these contacts. I am  once again responsible for Enron, and would appreciate your direction to the  appropriate individuals at Enron.  Our web-based solution has been adopted by over 60 leading companies over the  past 18 months. They are seeing rapid value from Aprimo\\'s unique ability to  help them Grow Top-Line Revenue (more effective Marketing) and Reduce  Bottom-line Cost (more efficient Marketing). With the opportunities facing  Enron, I\\'m certain that maximizing your Marketing Investments is of interest  to the Executive Team and your Shareholders.  Our solution is delivering improvements across all Marketing Functions, such  as:   - Event Management  - Marcom  - Marketing Financial Management  - Strategic Planning  - Direct Marketing  - Web Response  - Lead Management   Leading Analysts have identified Aprimo as the clear leader in Enterprise  Marketing Management. I would like to arrange brief discovery meetings with  some of the individuals responsible for Marketing\\'s contribution to Enron\\'s  growth.  I would appreciate any direction that you and Liz can provide.   Regards,  Vince LaGrange  Aprimo, Inc.???????   (940) 321-9787 - Office  (940) 390-8097 - Mobile  vince.lagrange@aprimo.com  9901 E. Valley Ranch Parkway  Suite 2000  Irving, TX 75063  ?  \"Aprimo Marketing - Managing the Business of Marketing\" ',\n",
              " \" What ? We had $89m of value-at-risk concentrated primarily in Nymex short positions  through July, August and September 01and we were $30m over our VaR limit for  this commodity as at last night's close. I wouldn't be doing my job if I didn't say this looks way out of bounds. Has this been sanctioned ?  DP   -----Original Message----- Sent: Wednesday, June 13, 2001 5:39 PM  The gas desk made approx. 50MM today.  Additionally, it appears as if we got  shorter approx. 20 - 30bcf this summer.    Frank\",\n",
              " ' Just met w/ Skilling and Whalley.   Var for gas has temp increase of $15MM until next friday (12/15/2000). Jeff is calling for an executive comm mtg to ask for an additional $40 MM of  corp var until next wed (12/13/2000).  One issue is UK power will be over VAR everyday starting probably thurs or  fri of this week, unless we increase them as well. (They sweep retail deals  into book once a week on this day). This increase only needs to be $2-3-  million.  Fasten seat belts and apply oxygen masks.   Rick ',\n",
              " \" Clickpaper Executive Summary for 4/3/01 Transaction Summary\\tNew in Prior \\t24 Hours\\tLTD External Transactions \\t4\\t279 Notional Value of Deals Completed \\t$103,322\\t$689,838,435 Notional Tonnage of Deals Completed\\t460 tons\\t1,176,270 tons Notional Board Feet\\t264,000 BF\\t23,972,000 BF Notional Square Feet\\t0 SF\\t2,910,000 SF  Registration Activity\\tNew in Prior \\t24 Hours\\tLTD Registered Clickpaper Users\\t1\\t442 Guest ID's Issued\\t0\\t2,429 Credit/Legal Review in Process\\t7\\t22 Credit Declined with Process Complete\\t0\\t11 Number of Password Applications Received\\t2\\t560  Products Offered\\tNew in Prior \\t24 Hours\\tLTD Number of Financial Products Offered\\t0\\t60 Number of Physical Products Offered\\t0\\t69  Counterparty Activity\\t  Number of Counterparties Having Transacted to Date\\t43 New Counterparties Transacting for the First Time Today\\t0   \",\n",
              " ' Please find attached the current copy of the EnronOnline Weekly Public Report  and Key Messages, including slides and statistics for public consumption.   The information contained in the attachments can be communicated to audiences  outside the company and should be used to ensure that we present a consistent  message to the public. Please ensure that this email is distributed to anyone  in your group who needs to discuss EnronOnline with individuals outside the  company.  This report is not intended to be used as a stand-alone presentation, nor  that all the information be used in a single presentation or customer  communication.                      ',\n",
              " ' Dear Valued Customer,  We\\'ve got great news.  There is a new feature for you, our subscribers.  At BusinessWeek Online we are always trying to make our Subscriber\\'s  experience easier and more fulfilling.  To that end, we have recently enabled  BusinessWeek Online with  \"Auto Log-In\" functionality.  What does this mean to you?  \"Auto Log-In\" will allow you to access premium  content at BusinessWeek.com without going through the step of entering you  user name and password each and every time you visit.  Simply click on the link below and sign-in and check the box for auto log-in:  http://www.you-click.net/GoNow/a14110a27878a63653009a0  Once you have enabled \"Auto Log-In,\" you\\'ll be able to go directly to the  most current issue of BusinessWeek Magazine as well as easily access 5 years  worth of searchable archives without ever having to log-in again.  You\\'ll be  able to access BusinessWeek Online faster and more efficiently than ever  before.  Thanks for your continued support,    Greg Zorthian,  SVP BusinessWeek Online      ~~~~~~~~~~~~~~~~~~~~~~~~~~~~~~~~~~~~~~~~~~~~~~~~~~~~~~~~~~~~~~~~~~~~~~~~ If you\\'ve received this message in error or wish to cancel your subscription to this service, click here:  http://www.you-click.net/Change-Remove/a14110a63653009a1 ',\n",
              " ' All applications residing on the R: drive will be temporarily unavailable  from Friday, June 22, 2001 at 10:30 P.M. until Saturday June 23, 2001 at 2:30  A.M. for users logging into the CORP domain serviced by Enron Net Works.  The  outage is needed to perform required system maintenance updates and increase  the storage capacity of the general application servers hosting the  applications managed by the Enron Net Works Distributed Application  Management group.    Any questions or concerns regarding this system outage can be directed to  Chris Jeska, (713) 345-7004.    The following have been identified as business critical applications that  will be affected by the outage:  Sitara CMS Equity trading systems (eqpm directory) Adaytum CQG TMS PowerMap Europe PowerDat Europe MapInfo Professional  Secretariat']"
            ]
          },
          "metadata": {},
          "execution_count": 69
        }
      ]
    },
    {
      "cell_type": "markdown",
      "source": [
        "Performing Word Cloud."
      ],
      "metadata": {
        "id": "XWQjEHOTJwvr"
      }
    },
    {
      "cell_type": "code",
      "source": [],
      "metadata": {
        "id": "OxKzxVgrHw9O"
      },
      "execution_count": null,
      "outputs": []
    }
  ]
}