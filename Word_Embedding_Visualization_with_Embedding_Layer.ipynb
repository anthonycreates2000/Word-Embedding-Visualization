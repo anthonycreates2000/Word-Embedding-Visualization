{
  "nbformat": 4,
  "nbformat_minor": 0,
  "metadata": {
    "colab": {
      "provenance": [],
      "authorship_tag": "ABX9TyOhA+p5H08R5kj0F9ckDoMq"
    },
    "kernelspec": {
      "name": "python3",
      "display_name": "Python 3"
    },
    "language_info": {
      "name": "python"
    }
  },
  "cells": [
    {
      "cell_type": "markdown",
      "source": [
        "# Word Embedding Visualizations.\n",
        "\n",
        "Name: Anthony Kevin Oktavius\n",
        "\n",
        "Here, we'll experiment with various embedding layer, with these following techniques.\n",
        "\n",
        "* TF-IDF\n",
        "* Count Vectorizer\n",
        "* Word2Vec\n",
        "* Neural network embedding layer.\n",
        "\n",
        "As time passes, I'll try to add various  techniques. We also use dimensionality reduction technique to reduce the dimension of each layers, so we can visualize the dataset with matplotlib."
      ],
      "metadata": {
        "id": "sNWHeIp4459C"
      }
    },
    {
      "cell_type": "markdown",
      "source": [
        "Library Import"
      ],
      "metadata": {
        "id": "7WtfEkrp7ptb"
      }
    },
    {
      "cell_type": "code",
      "execution_count": 9,
      "metadata": {
        "id": "fm_rnRxy0vs5"
      },
      "outputs": [],
      "source": [
        "import numpy as np\n",
        "import zipfile\n",
        "import gc\n",
        "import pickle\n",
        "import cv2\n",
        "import math\n",
        "import warnings\n",
        "import random\n",
        "import os\n",
        "import glob\n",
        "import pandas as pd\n",
        "import matplotlib.pyplot as plt\n",
        "import seaborn as sns\n",
        "import albumentations as A\n",
        "import torchvision\n",
        "import torchvision.transforms.functional as TF\n",
        "import torchvision.transforms as transforms\n",
        "import torch.utils.data as data_utils\n",
        "import torch\n",
        "import torchvision\n",
        "import torchvision.transforms as transforms\n",
        "import torch.optim as optim\n",
        "import torch.nn as nn\n",
        "# import torchmetrics\n",
        "import torch.nn.functional as F\n",
        "import PIL\n",
        "import torch.utils.data as data_utils\n",
        "import pickle\n",
        "import collections\n",
        "\n",
        "# import pytorch_lightning as pl\n",
        "import imutils\n",
        "import zipfile\n",
        "\n",
        "from wordcloud import WordCloud\n",
        "from PIL import Image\n",
        "from torch.utils.data import Dataset\n",
        "from collections import defaultdict\n",
        "from sklearn.preprocessing import LabelBinarizer\n",
        "from sklearn.model_selection import train_test_split\n",
        "from sklearn.metrics import classification_report\n",
        "from tensorflow.python.client import device_lib\n",
        "from zipfile import ZipFile\n",
        "from IPython import display\n",
        "from torchvision import models, transforms\n",
        "from google.colab.patches import cv2_imshow\n",
        "from sklearn.metrics import confusion_matrix, roc_curve\n",
        "from sklearn.feature_extraction.text import CountVectorizer\n",
        "from google.colab.patches import cv2_imshow"
      ]
    },
    {
      "cell_type": "markdown",
      "source": [
        "Dataset Loading with OpinRank dataset."
      ],
      "metadata": {
        "id": "Kqql0aI8GMZH"
      }
    },
    {
      "cell_type": "code",
      "source": [
        "! wget https://www.cs.cmu.edu/~./enron/enron_mail_20150507.tar.gz"
      ],
      "metadata": {
        "colab": {
          "base_uri": "https://localhost:8080/"
        },
        "id": "McpD-7naGMSA",
        "outputId": "15737e53-9752-4e2d-c741-4c2f86ddab37"
      },
      "execution_count": 2,
      "outputs": [
        {
          "output_type": "stream",
          "name": "stdout",
          "text": [
            "--2023-09-28 09:56:58--  https://www.cs.cmu.edu/~./enron/enron_mail_20150507.tar.gz\n",
            "Resolving www.cs.cmu.edu (www.cs.cmu.edu)... 128.2.42.95\n",
            "Connecting to www.cs.cmu.edu (www.cs.cmu.edu)|128.2.42.95|:443... connected.\n",
            "HTTP request sent, awaiting response... 200 OK\n",
            "Length: 443254787 (423M) [application/x-gzip]\n",
            "Saving to: ‘enron_mail_20150507.tar.gz’\n",
            "\n",
            "enron_mail_20150507 100%[===================>] 422.72M  4.36MB/s    in 98s     \n",
            "\n",
            "2023-09-28 09:58:36 (4.33 MB/s) - ‘enron_mail_20150507.tar.gz’ saved [443254787/443254787]\n",
            "\n",
            "unzip:  cannot find or open /content/enron_mail_20150507, /content/enron_mail_20150507.zip or /content/enron_mail_20150507.ZIP.\n"
          ]
        }
      ]
    },
    {
      "cell_type": "markdown",
      "source": [
        "Unzip the dataset in tar file format."
      ],
      "metadata": {
        "id": "0Nwa7C1bPX03"
      }
    },
    {
      "cell_type": "code",
      "source": [
        "! tar -xzf /content/enron_mail_20150507.tar.gz"
      ],
      "metadata": {
        "id": "gkm9YuqOOpuk"
      },
      "execution_count": 8,
      "outputs": []
    },
    {
      "cell_type": "markdown",
      "source": [
        "## Data Preparation"
      ],
      "metadata": {
        "id": "NfU-zj5VJtkY"
      }
    },
    {
      "cell_type": "markdown",
      "source": [
        "Gather all of the email paths from all-documents folder."
      ],
      "metadata": {
        "id": "Vt0yDlpnU9r2"
      }
    },
    {
      "cell_type": "code",
      "source": [
        "root_path = \"maildir/\"\n",
        "email_paths_from_all_documents_folder = glob.glob(os.path.join(root_path, \"*/all_documents/*.\"))\n",
        "print(email_paths_from_all_documents_folder[:10])"
      ],
      "metadata": {
        "colab": {
          "base_uri": "https://localhost:8080/"
        },
        "id": "Es-jNkI7VCmg",
        "outputId": "a47cacb3-77b0-4f69-d5bf-a5b08be41240"
      },
      "execution_count": 13,
      "outputs": [
        {
          "output_type": "stream",
          "name": "stdout",
          "text": [
            "['maildir/whalley-g/all_documents/54.', 'maildir/whalley-g/all_documents/226.', 'maildir/whalley-g/all_documents/344.', 'maildir/whalley-g/all_documents/302.', 'maildir/whalley-g/all_documents/299.', 'maildir/whalley-g/all_documents/64.', 'maildir/whalley-g/all_documents/193.', 'maildir/whalley-g/all_documents/103.', 'maildir/whalley-g/all_documents/104.', 'maildir/whalley-g/all_documents/358.']\n"
          ]
        }
      ]
    },
    {
      "cell_type": "markdown",
      "source": [
        "Get body email data, after X-Filename."
      ],
      "metadata": {
        "id": "9EtKQZn9SCd2"
      }
    },
    {
      "cell_type": "code",
      "source": [],
      "metadata": {
        "id": "EbYsRl1hTz9u"
      },
      "execution_count": null,
      "outputs": []
    },
    {
      "cell_type": "markdown",
      "source": [
        "Performing Word Cloud."
      ],
      "metadata": {
        "id": "XWQjEHOTJwvr"
      }
    },
    {
      "cell_type": "code",
      "source": [],
      "metadata": {
        "id": "OxKzxVgrHw9O"
      },
      "execution_count": null,
      "outputs": []
    }
  ]
}