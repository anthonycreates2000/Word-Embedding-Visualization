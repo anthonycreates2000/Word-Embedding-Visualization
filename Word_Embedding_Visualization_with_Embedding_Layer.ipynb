{
  "nbformat": 4,
  "nbformat_minor": 0,
  "metadata": {
    "colab": {
      "provenance": [],
      "authorship_tag": "ABX9TyPS6E/RVDBK03vCT7xjFxYO"
    },
    "kernelspec": {
      "name": "python3",
      "display_name": "Python 3"
    },
    "language_info": {
      "name": "python"
    }
  },
  "cells": [
    {
      "cell_type": "markdown",
      "source": [
        "# Word Embedding Visualizations.\n",
        "\n",
        "Name: Anthony Kevin Oktavius\n",
        "\n",
        "Here, we'll experiment with various embedding layer, with these following techniques.\n",
        "\n",
        "* TF-IDF\n",
        "* Count Vectorizer\n",
        "* Word2Vec\n",
        "* Neural network embedding layer.\n",
        "\n",
        "As time passes, I'll try to add various  techniques. We also use dimensionality reduction technique to reduce the dimension of each layers, so we can visualize the relationshop between each words with matplotlib."
      ],
      "metadata": {
        "id": "sNWHeIp4459C"
      }
    },
    {
      "cell_type": "markdown",
      "source": [
        "Library Import"
      ],
      "metadata": {
        "id": "7WtfEkrp7ptb"
      }
    },
    {
      "cell_type": "code",
      "execution_count": 12,
      "metadata": {
        "id": "fm_rnRxy0vs5"
      },
      "outputs": [],
      "source": [
        "import numpy as np\n",
        "import zipfile\n",
        "import gc\n",
        "import pickle\n",
        "import cv2\n",
        "import math\n",
        "import warnings\n",
        "import random\n",
        "import string\n",
        "import os\n",
        "import glob\n",
        "import pandas as pd\n",
        "import matplotlib.pyplot as plt\n",
        "import seaborn as sns\n",
        "import albumentations as A\n",
        "import torchvision\n",
        "import torchvision.transforms.functional as TF\n",
        "import torchvision.transforms as transforms\n",
        "import torch.utils.data as data_utils\n",
        "import torch\n",
        "import torchvision\n",
        "import torchvision.transforms as transforms\n",
        "import torch.optim as optim\n",
        "import torch.nn as nn\n",
        "# import torchmetrics\n",
        "import torch.nn.functional as F\n",
        "import PIL\n",
        "import torch.utils.data as data_utils\n",
        "import pickle\n",
        "import collections\n",
        "\n",
        "# import pytorch_lightning as pl\n",
        "import imutils\n",
        "import zipfile\n",
        "\n",
        "from wordcloud import WordCloud\n",
        "from PIL import Image\n",
        "from torch.utils.data import Dataset\n",
        "from collections import defaultdict\n",
        "from sklearn.preprocessing import LabelBinarizer\n",
        "from sklearn.model_selection import train_test_split\n",
        "from sklearn.metrics import classification_report\n",
        "from tensorflow.python.client import device_lib\n",
        "from zipfile import ZipFile\n",
        "from IPython import display\n",
        "from torchvision import models, transforms\n",
        "from google.colab.patches import cv2_imshow\n",
        "from sklearn.metrics import confusion_matrix, roc_curve\n",
        "from sklearn.feature_extraction.text import CountVectorizer\n",
        "from google.colab.patches import cv2_imshow"
      ]
    },
    {
      "cell_type": "markdown",
      "source": [
        "Dataset Loading with OpinRank dataset."
      ],
      "metadata": {
        "id": "Kqql0aI8GMZH"
      }
    },
    {
      "cell_type": "code",
      "source": [
        "! wget https://www.cs.cmu.edu/~./enron/enron_mail_20150507.tar.gz"
      ],
      "metadata": {
        "colab": {
          "base_uri": "https://localhost:8080/"
        },
        "id": "McpD-7naGMSA",
        "outputId": "27bfbf1e-402c-437a-8ad5-05fb2ce1fcae"
      },
      "execution_count": 13,
      "outputs": [
        {
          "output_type": "stream",
          "name": "stdout",
          "text": [
            "--2023-09-29 04:25:32--  https://www.cs.cmu.edu/~./enron/enron_mail_20150507.tar.gz\n",
            "Resolving www.cs.cmu.edu (www.cs.cmu.edu)... 128.2.42.95\n",
            "Connecting to www.cs.cmu.edu (www.cs.cmu.edu)|128.2.42.95|:443... connected.\n",
            "HTTP request sent, awaiting response... 200 OK\n",
            "Length: 443254787 (423M) [application/x-gzip]\n",
            "Saving to: ‘enron_mail_20150507.tar.gz.1’\n",
            "\n",
            "enron_mail_20150507 100%[===================>] 422.72M   975KB/s    in 5m 14s  \n",
            "\n",
            "2023-09-29 04:30:46 (1.35 MB/s) - ‘enron_mail_20150507.tar.gz.1’ saved [443254787/443254787]\n",
            "\n"
          ]
        }
      ]
    },
    {
      "cell_type": "markdown",
      "source": [
        "Unzip the dataset in tar file format."
      ],
      "metadata": {
        "id": "0Nwa7C1bPX03"
      }
    },
    {
      "cell_type": "code",
      "source": [
        "! tar -xzf /content/enron_mail_20150507.tar.gz"
      ],
      "metadata": {
        "id": "gkm9YuqOOpuk"
      },
      "execution_count": 14,
      "outputs": []
    },
    {
      "cell_type": "markdown",
      "source": [
        "## Data Preparation"
      ],
      "metadata": {
        "id": "NfU-zj5VJtkY"
      }
    },
    {
      "cell_type": "markdown",
      "source": [
        "Gather all of the email paths from all-documents folder."
      ],
      "metadata": {
        "id": "Vt0yDlpnU9r2"
      }
    },
    {
      "cell_type": "code",
      "source": [
        "root_path = \"maildir/\"\n",
        "email_paths_from_all_documents_folder = glob.glob(os.path.join(root_path, \"*/all_documents/*.\"))\n",
        "print(email_paths_from_all_documents_folder[:10])"
      ],
      "metadata": {
        "colab": {
          "base_uri": "https://localhost:8080/"
        },
        "id": "Es-jNkI7VCmg",
        "outputId": "e6b93c2c-73e6-4655-d8c1-a5d6656beeeb"
      },
      "execution_count": 15,
      "outputs": [
        {
          "output_type": "stream",
          "name": "stdout",
          "text": [
            "['maildir/ruscitti-k/all_documents/224.', 'maildir/ruscitti-k/all_documents/133.', 'maildir/ruscitti-k/all_documents/220.', 'maildir/ruscitti-k/all_documents/310.', 'maildir/ruscitti-k/all_documents/325.', 'maildir/ruscitti-k/all_documents/16.', 'maildir/ruscitti-k/all_documents/348.', 'maildir/ruscitti-k/all_documents/148.', 'maildir/ruscitti-k/all_documents/72.', 'maildir/ruscitti-k/all_documents/296.']\n"
          ]
        }
      ]
    },
    {
      "cell_type": "markdown",
      "source": [
        "Get body email data, after X-Filename."
      ],
      "metadata": {
        "id": "9EtKQZn9SCd2"
      }
    },
    {
      "cell_type": "code",
      "source": [
        "print(\"Sample Email data: \")\n",
        "\n",
        "def read_file(path):\n",
        "  return open(path, \"r\", errors='ignore')\n",
        "\n",
        "def get_removed_components_email_text(text):\n",
        "  texts_per_line = text.split(\"\\n\")\n",
        "\n",
        "  full_email_text_per_line = []\n",
        "\n",
        "  email_components = [\n",
        "    \"Message-ID: \", \"Date: \", \"From: \",\n",
        "    \"To: \", \"Subject: \", \"Mime-Version: \",\n",
        "    \"Content-Type: \", \"Content-Transfer-Encoding: \", \"X-From: \",\n",
        "    \"X-cc: \", \"X-bcc: \", \"X-Folder: \", \"X-FileName: \",\n",
        "    \"X-Origin: \", \"X-Filename: \", \"cc: \", \"@enron.com\",\n",
        "  ]\n",
        "  NOT_FOUND = -1\n",
        "\n",
        "  for text_per_line in text.split(\"\\n\"):\n",
        "    is_exist_component = False\n",
        "    for component in email_components:\n",
        "      if text_per_line.find(component) != NOT_FOUND:\n",
        "        is_exist_component = True\n",
        "        break\n",
        "    if is_exist_component == False:\n",
        "      full_email_text_per_line.append(text_per_line)\n",
        "\n",
        "  return \" \".join(full_email_text_per_line)\n",
        "\n",
        "sample_file = read_file(email_paths_from_all_documents_folder[0])\n",
        "sample_body_email_data = get_removed_components_email_text(sample_file.read())\n",
        "\n",
        "print(sample_body_email_data)"
      ],
      "metadata": {
        "id": "EbYsRl1hTz9u",
        "colab": {
          "base_uri": "https://localhost:8080/"
        },
        "outputId": "227cd175-3523-4abd-eaf6-55d0645b90a4"
      },
      "execution_count": 16,
      "outputs": [
        {
          "output_type": "stream",
          "name": "stdout",
          "text": [
            "Sample Email data: \n",
            " The attached file contains our latest daily volume requirements for 3/14 thru 3/16.           Doug Kinney Ph:  703-561-6339 Fax:  703-561-7317   - 03-14-00 Daily VolsAM.xls\n"
          ]
        }
      ]
    },
    {
      "cell_type": "markdown",
      "source": [
        "Putting it all together"
      ],
      "metadata": {
        "id": "SC9M0RBcb00D"
      }
    },
    {
      "cell_type": "code",
      "source": [
        "def get_dataset():\n",
        "  root_path = \"maildir/\"\n",
        "  email_paths_from_all_documents_folder = glob.glob(os.path.join(root_path, \"*/all_documents/*.\"))\n",
        "\n",
        "  dataset = []\n",
        "\n",
        "  for email_path in email_paths_from_all_documents_folder:\n",
        "    file_ = read_file(email_path)\n",
        "    email_body = get_removed_components_email_text(file_.read())\n",
        "    dataset.append(email_body)\n",
        "\n",
        "  return dataset\n",
        "\n",
        "dataset = get_dataset()\n",
        "print(f\"Number of data: {len(dataset)}\")\n",
        "dataset[:10]"
      ],
      "metadata": {
        "colab": {
          "base_uri": "https://localhost:8080/"
        },
        "id": "weowlaCPb0hI",
        "outputId": "82e734d1-eead-48db-d485-cc9a9c3c6bbc"
      },
      "execution_count": null,
      "outputs": [
        {
          "output_type": "stream",
          "name": "stdout",
          "text": [
            "Number of data: 128103\n"
          ]
        },
        {
          "output_type": "execute_result",
          "data": {
            "text/plain": [
              "[' The attached file contains our latest daily volume requirements for 3/14 thru 3/16.           Doug Kinney Ph:  703-561-6339 Fax:  703-561-7317   - 03-14-00 Daily VolsAM.xls',\n",
              " \" Great to hear you'll be back soon.  Get me a call when you get back in the  states and tell that Fathead I said hi.  Kevin\",\n",
              " ' Kevin,  How\\'s things?  Been a while since we talked.  Hope your jobs are going well and your wedding plans are proceeding smoothly.  Did you get my e-mail about running into Mary Eyre in the gym in San Mateo? Spooky.  I\\'ve seen her a couple more times but I haven\\'t spoken to her; I get in the \"properly pumped\" zone.  Turns out there are a lot of classmates on the peninsula - David Park, Frank Knifsend, Mary, and James Regan come to mind immediately.  No real news here.  We haven\\'t broken anything in the house in a while, so either we\\'re getting luckier or we\\'re due.  Both jobs are very busy right now so the weekends are for recuperating.  This weekend, of course, will be for watching basketball.  Hi to Lisa - let us know how you\\'re doing.  Regards,  Tim Sarhatt Sr. Treasury Analyst Adaptive Broadband tsarhatt@adaptivebroadband.com (408) 743-3459',\n",
              " \" ----- Forwarded by Elisabeth A Ruscitti/HLP/HouInd on 03/09/01 03:07 PM ----- |------------------------+------------------------+------------------------| |                        |   Frank S Moore        |                        | |                        |   03/09/01 03:03 PM    |   Ron R.               | |                        |                        |   Russell/HLP/HouInd,  | |                        |                        |   Elisabeth A          | |                        |                        |   Ruscitti/HLP/HouInd@H| |                        |                        |   ouInd, Dave A        | |                        |                        |   Gerberding/RM/HouInd@| |                        |                        |   HouInd, Kevin L      | |                        |                        |   Davis/RM/HouInd@HouIn| |                        |                        |   d, Rudy              | |                        |                        |   Pena/PG/HouInd@HouInd| |                        |                        |   , Tony J             | |                        |                        |   Votano/HLP/HouInd@Hou| |                        |                        |   Ind                  | |                        |                        |   California Dreamin   | |------------------------+------------------------+------------------------|    A very accurate cartoon!    Frank Moore Project Manager Reliant Energy Solutions, LLC 409.621.1289 / 281.651.1657      - California_Dreamin'.gif\",\n",
              " \" Hey Kev,  Good to hear from you.  Hope all is well.  Well we out here in the Golden  State could certainly use some help from you and the boys at  Enron................... Gray Davis is a little mouse!  That about describes most peoples opininion of him.  The power and natural gas situation out here is a mess!  The gas  situation is much worse for us at this point here in Long Beach.  We haven't seen any power outages or any significant increase in our bill either.  The gas front  is an entirely different matter!  I just paid a $300 bill for the month of Dec.   I paid $100 for the same month in 1999.  The usage (therms) was the same............ figure that one out?!?!  At that level I might as well be paying for heating oil in Maine.  Most people I talk to have scene their gas bill go up 2 or 3 fold.  Anyway, things could be a whole lot worse I guess.  Luke just had his 1st birthday party this past weekend.  It was quite the scene.  I think his next party will be when he is 18.  Say hello to Lisa for us.  TJ   (See attached file: 21001 Luke&FriendsPlayMaracas.JPG)(See attached file:  21001 LukesCake4.JPG)      cc:     What planet did Gray Davis come from??  What's the perception of this guy in California??  Hope all is well.  KR      - 21001 Luke&FriendsPlayMaracas.JPG  - 21001 LukesCake4.JPG\",\n",
              " \" They need to go back to Div IAA.  There currently children in a man's world.\",\n",
              " ' [IMAGE]   =09[IMAGE]=09Expedia.com Fare Tracker =09=09[IMAGE] =09=09 Dear Kevin,=20 =09=09 =09=09 Feeling lucky? Head for Vegas, where the sun is shining and  hotel r= ates are=20 dropping. Right now, you can book a room at  one of Sin City=01,s most eleg= ant=20 hotels for a fraction of the  normal cost:=20 =09=09 =09=09New York, New York Hotel and Casino from $69 =09=09The Rio All-Suites Hotel and Casino from $79 =09=09The Mirage Hotel and Casino from $129=20 =09=09 =09=09You=01,ll save 20 to 70% when you stay at an Expedia Special Rate hot= el. Look=20 for them in more than 200 other cities, too! =20 =09=09 =09=09 [IMAGE] =09=09EXPEDIA.COM TRAVEL NEWS =09=09[IMAGE] =09=09 Every week, we bring you the latest fare sales and travel updates so=  you can=20 make exactly the right travel choices.=20 =09=09 =09=09London for less, with British Airways =09=09Right now, you can get fabulous fares from the U.S. to London and nin= e other=20 European cities, including Paris and  Rome. New York to London is just $228= =20 roundtrip! Book by  January 17.=20 =09=09 =09=09Save up to 25% on an Alamo rental =09=09Rent an SUV, a mid-size car, a luxury car, even a  convertible from A= lamo on=20 Expedia.com, and you=01,ll save up to 25%. Hurry -- this deal ends January = 19.=20 =09=09 =09=09Buy with confidence at Expedia.com =09=09Our newly updated privacy statement has earned  us the approval of=20 PricewaterhouseCoopers LLP, TRUSTe, and  BBBOnLine. We value your business= =20 and your trust.=20 =09=09 =09=09[IMAGE][IMAGE] =09=09 =09=09 =09=09 =09=09www.expedia.com =09=09[IMAGE] =09=09 =09=09FARE TRACKER SUMMARY =09=09[IMAGE] =09=09Your Fare Tracker Report=20 =09=09The airlines=01, lowest published fares, plus the =09=09range of fares found by Expedia.com travelers. =09=09 =09=09 What does Airlines\\' Lowest Published Fare mean?=20 =09=09 =09=09Want to change your Fare Tracker routes?=20 =09=09 =09=09Check out all your route and fare options with our Flight Wizard.=20 =09=09 =09=09Visit Airline Fare List to check out the airlines\\' published fares on=  any=20 route.=20 =09=09[IMAGE][IMAGE] =09=09 =09=09 =09=09 =09=09www.expedia.com =09=09[IMAGE] =09=09 =09=09SPECIAL DEALS =09=09[IMAGE] =09=09Best Deals=20 =09=09The best offers and promotions at Expedia.com, handpicked to bring yo= u=20 exciting opportunities and excellent value. =09=09 =09=09=20 =09=09 =09=09Expedia Special Rate: New York=01,s Empire Hotel from $99 =09=09An amazing value, just steps from Central Park and Times Square.=20 =09=09 =09=09Expedia Cruises: Seven-day Mexican Riviera cruise from $599 =09=09See Puerto Vallarta, Mazatl?n, Cabo. Ask about free cabin  upgrades.= =20 =09=09 =09=09Expedia Ski Vacations: Tahoe package from $536 =09=09=01&Heavenly=018 snow and casino action! Air, three nights=01, hotel,=   car, extras.=20 =09=09 =09=09Away.com: Sail a windjammer off Costa Rica, from $2,103 =09=09Two sail for the price of one in January; free airfare in  February a= nd=20 March. =20 =09=09        [IMAGE] =09=09[IMAGE] =09=09 =09=09Thank you for traveling with Expedia.com.=20 =09=09 =09=09Expedia.com Travel Team =09=09 =09=09Don\\'t just travel. Travel Right. (TM) =09=09 =09=09http://expedia.com/ =09=09 =09=09[IMAGE] =09=09 FROM OUR SPONSORS: =09=09 =09=09A world of gifts and savings at Away.com =09=09Discover treasures and gifts for everyone at Away.com. From Africa to= =20 Australia, gear to guidebooks, and calendars to cookbooks, a world of gifts= =20 is a click away. We have one-of-a-kind gifts that will touch your spirit an= d=20 spirit you away.=20 =09=09[IMAGE][IMAGE] =09=09[IMAGE] =09=09The airlines\\' lowest published fares are the lowest roundtrip fares p= ublished=20 by the airlines for your routes. These fares may not be available on the da= ys=20 you wish to travel. Our Fare Calendar  shows you when these fares are=20 available. =20 =09=09 =09=09The range of recent fare prices found by Expedia.com customers--the l= owest=20 and highest fares found for your routes--can help you determine the ideal= =20 price for your route.=20 =09=09 =09=09All prices are quoted in US Dollars.=20 =09=09 =09=09About this mailing: You are receiving this e-mail because you are a= =20 registered member of Expedia.com.=20 =09=09 =09=09Questions? Visit the Expedia.com Customer Support Center.=20 =09=09 =09=09If you do not wish to receive any further Fare Tracker e-mails from u= s,=20 please reply to this mail with \"unsubscribe\" in the subject line.=20 =09=09 =09=09Sorry, but we can\\'t reply to responses to Fare Tracker. If you have q= uestions=20 or want to give feedback, please click here.=20 =09=09 =09=09,1998, 1999, 2000 Expedia, Inc. All rights reserved.=20 =09=09 =09=09This email was sent to:  kruscit@ect.enron.com',\n",
              " \" Any word.  I've been waiting for a while on this issue.  Kevin\",\n",
              " ' Tell me about the new job.  What will you be doing?  Kevin',\n",
              " \" you obviously know the energy market better than most.  My guy at goldman, Jonathan Raleigh, has been on calpine for 4 years and has killed it, so i'm just following his lead. as for the futile leadership in ca, i agree. wouldn't it be nice for you, me , tj, and sweets to run a company or a state. j ----- Original Message ----- Sent: Friday, March 23, 2001 7:42 AM   > > Stamos, > > Glad everyone had a good time at Sweets'.  I hope he had a blast. > > In terms of your email reply, > you can have Calpine.  How are they going to make money long term if price > caps are instituted?  This obviously would be the stupidest policy.  In > addition > their exposure to the CA crisis must be pretty significant - when and how > are they > going to get paid?  I wouldn't want to bank on the energy market in the > most > regulated state in the country.  Plus, if the state backs energy purchases, > it's > going to get to the point where who wants to own CA credit??  PG&E and > Edison > International are doomed, as they should be.  The state of CA is going to > go > down the tubes unless they find some good leadership.  Unfortunately, noone > out there seems to have the least clue on how to solve the problem.  The > politicians > are a complete joke.  It is incredibly disheartening to witness the > absolute stupidity > of the CA politicians in addressing this issue.  They seem to be much more > focused > on finger pointing than coming up with a viable solution.  I honestly think > they are incable > of solving the problem. > > > KR >\"]"
            ]
          },
          "metadata": {},
          "execution_count": 10
        }
      ]
    },
    {
      "cell_type": "markdown",
      "source": [
        "Remove Punctuations from the dataset."
      ],
      "metadata": {
        "id": "2wkeInmHHUNK"
      }
    },
    {
      "cell_type": "code",
      "source": [
        "def get_removed_duplicated_space_in_string(my_string):\n",
        "    return \" \".join(my_string.split())\n",
        "\n",
        "def get_erased_punctuations(text):\n",
        "    list_of_punctuations = string.punctuation + \"\\‘=\"\n",
        "    final_text = text\n",
        "\n",
        "    for punc in list_of_punctuations:\n",
        "      final_text = final_text.replace(punc, \" \")\n",
        "\n",
        "    final_text = get_removed_duplicated_space_in_string(final_text)\n",
        "\n",
        "    return final_text\n",
        "\n",
        "erased_punctuations_dataset = []\n",
        "\n",
        "for datum in dataset:\n",
        "  erased_punctuations_datum = get_erased_punctuations(datum)\n",
        "  erased_punctuations_dataset.append(erased_punctuations_datum)\n",
        "\n",
        "erased_punctuations_dataset[:10]"
      ],
      "metadata": {
        "colab": {
          "base_uri": "https://localhost:8080/"
        },
        "id": "THrqRPe8HWQt",
        "outputId": "41ad8774-6761-44e6-b097-67cd1beb6f0a"
      },
      "execution_count": 18,
      "outputs": [
        {
          "output_type": "execute_result",
          "data": {
            "text/plain": [
              "['The attached file contains our latest daily volume requirements for 3 14 thru 3 16 Doug Kinney Ph 703 561 6339 Fax 703 561 7317 03 14 00 Daily VolsAM xls',\n",
              " 'Great to hear you ll be back soon Get me a call when you get back in the states and tell that Fathead I said hi Kevin',\n",
              " 'Kevin How s things Been a while since we talked Hope your jobs are going well and your wedding plans are proceeding smoothly Did you get my e mail about running into Mary Eyre in the gym in San Mateo Spooky I ve seen her a couple more times but I haven t spoken to her I get in the properly pumped zone Turns out there are a lot of classmates on the peninsula David Park Frank Knifsend Mary and James Regan come to mind immediately No real news here We haven t broken anything in the house in a while so either we re getting luckier or we re due Both jobs are very busy right now so the weekends are for recuperating This weekend of course will be for watching basketball Hi to Lisa let us know how you re doing Regards Tim Sarhatt Sr Treasury Analyst Adaptive Broadband tsarhatt adaptivebroadband com 408 743 3459',\n",
              " 'Forwarded by Elisabeth A Ruscitti HLP HouInd on 03 09 01 03 07 PM Frank S Moore 03 09 01 03 03 PM Ron R Russell HLP HouInd Elisabeth A Ruscitti HLP HouInd H ouInd Dave A Gerberding RM HouInd HouInd Kevin L Davis RM HouInd HouIn d Rudy Pena PG HouInd HouInd Tony J Votano HLP HouInd Hou Ind California Dreamin A very accurate cartoon Frank Moore Project Manager Reliant Energy Solutions LLC 409 621 1289 281 651 1657 California Dreamin gif',\n",
              " 'Hey Kev Good to hear from you Hope all is well Well we out here in the Golden State could certainly use some help from you and the boys at Enron Gray Davis is a little mouse That about describes most peoples opininion of him The power and natural gas situation out here is a mess The gas situation is much worse for us at this point here in Long Beach We haven t seen any power outages or any significant increase in our bill either The gas front is an entirely different matter I just paid a 300 bill for the month of Dec I paid 100 for the same month in 1999 The usage therms was the same figure that one out At that level I might as well be paying for heating oil in Maine Most people I talk to have scene their gas bill go up 2 or 3 fold Anyway things could be a whole lot worse I guess Luke just had his 1st birthday party this past weekend It was quite the scene I think his next party will be when he is 18 Say hello to Lisa for us TJ See attached file 21001 Luke FriendsPlayMaracas JPG See attached file 21001 LukesCake4 JPG cc What planet did Gray Davis come from What s the perception of this guy in California Hope all is well KR 21001 Luke FriendsPlayMaracas JPG 21001 LukesCake4 JPG',\n",
              " 'They need to go back to Div IAA There currently children in a man s world',\n",
              " 'IMAGE 09 IMAGE 09Expedia com Fare Tracker 09 09 IMAGE 09 09 Dear Kevin 20 09 09 09 09 Feeling lucky Head for Vegas where the sun is shining and hotel r ates are 20 dropping Right now you can book a room at one of Sin City 01 s most eleg ant 20 hotels for a fraction of the normal cost 20 09 09 09 09New York New York Hotel and Casino from 69 09 09The Rio All Suites Hotel and Casino from 79 09 09The Mirage Hotel and Casino from 129 20 09 09 09 09You 01 ll save 20 to 70 when you stay at an Expedia Special Rate hot el Look 20 for them in more than 200 other cities too 20 09 09 09 09 IMAGE 09 09EXPEDIA COM TRAVEL NEWS 09 09 IMAGE 09 09 Every week we bring you the latest fare sales and travel updates so you can 20 make exactly the right travel choices 20 09 09 09 09London for less with British Airways 09 09Right now you can get fabulous fares from the U S to London and nin e other 20 European cities including Paris and Rome New York to London is just 228 20 roundtrip Book by January 17 20 09 09 09 09Save up to 25 on an Alamo rental 09 09Rent an SUV a mid size car a luxury car even a convertible from A lamo on 20 Expedia com and you 01 ll save up to 25 Hurry this deal ends January 19 20 09 09 09 09Buy with confidence at Expedia com 09 09Our newly updated privacy statement has earned us the approval of 20 PricewaterhouseCoopers LLP TRUSTe and BBBOnLine We value your business 20 and your trust 20 09 09 09 09 IMAGE IMAGE 09 09 09 09 09 09 09 09www expedia com 09 09 IMAGE 09 09 09 09FARE TRACKER SUMMARY 09 09 IMAGE 09 09Your Fare Tracker Report 20 09 09The airlines 01 lowest published fares plus the 09 09range of fares found by Expedia com travelers 09 09 09 09 What does Airlines Lowest Published Fare mean 20 09 09 09 09Want to change your Fare Tracker routes 20 09 09 09 09Check out all your route and fare options with our Flight Wizard 20 09 09 09 09Visit Airline Fare List to check out the airlines published fares on any 20 route 20 09 09 IMAGE IMAGE 09 09 09 09 09 09 09 09www expedia com 09 09 IMAGE 09 09 09 09SPECIAL DEALS 09 09 IMAGE 09 09Best Deals 20 09 09The best offers and promotions at Expedia com handpicked to bring yo u 20 exciting opportunities and excellent value 09 09 09 09 20 09 09 09 09Expedia Special Rate New York 01 s Empire Hotel from 99 09 09An amazing value just steps from Central Park and Times Square 20 09 09 09 09Expedia Cruises Seven day Mexican Riviera cruise from 599 09 09See Puerto Vallarta Mazatl n Cabo Ask about free cabin upgrades 20 09 09 09 09Expedia Ski Vacations Tahoe package from 536 09 09 01 Heavenly 018 snow and casino action Air three nights 01 hotel car extras 20 09 09 09 09Away com Sail a windjammer off Costa Rica from 2 103 09 09Two sail for the price of one in January free airfare in February a nd 20 March 20 09 09 IMAGE 09 09 IMAGE 09 09 09 09Thank you for traveling with Expedia com 20 09 09 09 09Expedia com Travel Team 09 09 09 09Don t just travel Travel Right TM 09 09 09 09http expedia com 09 09 09 09 IMAGE 09 09 FROM OUR SPONSORS 09 09 09 09A world of gifts and savings at Away com 09 09Discover treasures and gifts for everyone at Away com From Africa to 20 Australia gear to guidebooks and calendars to cookbooks a world of gifts 20 is a click away We have one of a kind gifts that will touch your spirit an d 20 spirit you away 20 09 09 IMAGE IMAGE 09 09 IMAGE 09 09The airlines lowest published fares are the lowest roundtrip fares p ublished 20 by the airlines for your routes These fares may not be available on the da ys 20 you wish to travel Our Fare Calendar shows you when these fares are 20 available 20 09 09 09 09The range of recent fare prices found by Expedia com customers the l owest 20 and highest fares found for your routes can help you determine the ideal 20 price for your route 20 09 09 09 09All prices are quoted in US Dollars 20 09 09 09 09About this mailing You are receiving this e mail because you are a 20 registered member of Expedia com 20 09 09 09 09Questions Visit the Expedia com Customer Support Center 20 09 09 09 09If you do not wish to receive any further Fare Tracker e mails from u s 20 please reply to this mail with unsubscribe in the subject line 20 09 09 09 09Sorry but we can t reply to responses to Fare Tracker If you have q uestions 20 or want to give feedback please click here 20 09 09 09 09 1998 1999 2000 Expedia Inc All rights reserved 20 09 09 09 09This email was sent to kruscit ect enron com',\n",
              " 'Any word I ve been waiting for a while on this issue Kevin',\n",
              " 'Tell me about the new job What will you be doing Kevin',\n",
              " 'you obviously know the energy market better than most My guy at goldman Jonathan Raleigh has been on calpine for 4 years and has killed it so i m just following his lead as for the futile leadership in ca i agree wouldn t it be nice for you me tj and sweets to run a company or a state j Original Message Sent Friday March 23 2001 7 42 AM Stamos Glad everyone had a good time at Sweets I hope he had a blast In terms of your email reply you can have Calpine How are they going to make money long term if price caps are instituted This obviously would be the stupidest policy In addition their exposure to the CA crisis must be pretty significant when and how are they going to get paid I wouldn t want to bank on the energy market in the most regulated state in the country Plus if the state backs energy purchases it s going to get to the point where who wants to own CA credit PG E and Edison International are doomed as they should be The state of CA is going to go down the tubes unless they find some good leadership Unfortunately noone out there seems to have the least clue on how to solve the problem The politicians are a complete joke It is incredibly disheartening to witness the absolute stupidity of the CA politicians in addressing this issue They seem to be much more focused on finger pointing than coming up with a viable solution I honestly think they are incable of solving the problem KR']"
            ]
          },
          "metadata": {},
          "execution_count": 18
        }
      ]
    },
    {
      "cell_type": "markdown",
      "source": [
        "Remove integers from dataset."
      ],
      "metadata": {
        "id": "K8eBtprxKjWb"
      }
    },
    {
      "cell_type": "code",
      "source": [
        "def erase_all_digits_from_sentence(sentence):\n",
        "    digits = string.digits\n",
        "    table = str.maketrans('', '', digits)\n",
        "    new_string = sentence.translate(table)\n",
        "    return new_string\n",
        "\n",
        "erased_all_digits_dataset = []\n",
        "\n",
        "for datum in erased_punctuations_dataset:\n",
        "  all_digits_erased_datum = erase_all_digits_from_sentence(datum)\n",
        "  erased_all_digits_dataset.append(all_digits_erased_datum)\n",
        "\n",
        "erased_all_digits_dataset[:10]"
      ],
      "metadata": {
        "id": "BZaTDPvuLdZq",
        "colab": {
          "base_uri": "https://localhost:8080/"
        },
        "outputId": "b003ba0f-3e5f-4ce9-d3d0-e0caaea59f9f"
      },
      "execution_count": 24,
      "outputs": [
        {
          "output_type": "execute_result",
          "data": {
            "text/plain": [
              "['The attached file contains our latest daily volume requirements for   thru   Doug Kinney Ph    Fax       Daily VolsAM xls',\n",
              " 'Great to hear you ll be back soon Get me a call when you get back in the states and tell that Fathead I said hi Kevin',\n",
              " 'Kevin How s things Been a while since we talked Hope your jobs are going well and your wedding plans are proceeding smoothly Did you get my e mail about running into Mary Eyre in the gym in San Mateo Spooky I ve seen her a couple more times but I haven t spoken to her I get in the properly pumped zone Turns out there are a lot of classmates on the peninsula David Park Frank Knifsend Mary and James Regan come to mind immediately No real news here We haven t broken anything in the house in a while so either we re getting luckier or we re due Both jobs are very busy right now so the weekends are for recuperating This weekend of course will be for watching basketball Hi to Lisa let us know how you re doing Regards Tim Sarhatt Sr Treasury Analyst Adaptive Broadband tsarhatt adaptivebroadband com   ',\n",
              " 'Forwarded by Elisabeth A Ruscitti HLP HouInd on      PM Frank S Moore      PM Ron R Russell HLP HouInd Elisabeth A Ruscitti HLP HouInd H ouInd Dave A Gerberding RM HouInd HouInd Kevin L Davis RM HouInd HouIn d Rudy Pena PG HouInd HouInd Tony J Votano HLP HouInd Hou Ind California Dreamin A very accurate cartoon Frank Moore Project Manager Reliant Energy Solutions LLC       California Dreamin gif',\n",
              " 'Hey Kev Good to hear from you Hope all is well Well we out here in the Golden State could certainly use some help from you and the boys at Enron Gray Davis is a little mouse That about describes most peoples opininion of him The power and natural gas situation out here is a mess The gas situation is much worse for us at this point here in Long Beach We haven t seen any power outages or any significant increase in our bill either The gas front is an entirely different matter I just paid a  bill for the month of Dec I paid  for the same month in  The usage therms was the same figure that one out At that level I might as well be paying for heating oil in Maine Most people I talk to have scene their gas bill go up  or  fold Anyway things could be a whole lot worse I guess Luke just had his st birthday party this past weekend It was quite the scene I think his next party will be when he is  Say hello to Lisa for us TJ See attached file  Luke FriendsPlayMaracas JPG See attached file  LukesCake JPG cc What planet did Gray Davis come from What s the perception of this guy in California Hope all is well KR  Luke FriendsPlayMaracas JPG  LukesCake JPG',\n",
              " 'They need to go back to Div IAA There currently children in a man s world',\n",
              " 'IMAGE  IMAGE Expedia com Fare Tracker   IMAGE   Dear Kevin      Feeling lucky Head for Vegas where the sun is shining and hotel r ates are  dropping Right now you can book a room at one of Sin City  s most eleg ant  hotels for a fraction of the normal cost     New York New York Hotel and Casino from   The Rio All Suites Hotel and Casino from   The Mirage Hotel and Casino from      You  ll save  to  when you stay at an Expedia Special Rate hot el Look  for them in more than  other cities too      IMAGE  EXPEDIA COM TRAVEL NEWS   IMAGE   Every week we bring you the latest fare sales and travel updates so you can  make exactly the right travel choices     London for less with British Airways  Right now you can get fabulous fares from the U S to London and nin e other  European cities including Paris and Rome New York to London is just   roundtrip Book by January      Save up to  on an Alamo rental  Rent an SUV a mid size car a luxury car even a convertible from A lamo on  Expedia com and you  ll save up to  Hurry this deal ends January      Buy with confidence at Expedia com  Our newly updated privacy statement has earned us the approval of  PricewaterhouseCoopers LLP TRUSTe and BBBOnLine We value your business  and your trust      IMAGE IMAGE        www expedia com   IMAGE    FARE TRACKER SUMMARY   IMAGE  Your Fare Tracker Report   The airlines  lowest published fares plus the  range of fares found by Expedia com travelers     What does Airlines Lowest Published Fare mean     Want to change your Fare Tracker routes     Check out all your route and fare options with our Flight Wizard     Visit Airline Fare List to check out the airlines published fares on any  route    IMAGE IMAGE        www expedia com   IMAGE    SPECIAL DEALS   IMAGE  Best Deals   The best offers and promotions at Expedia com handpicked to bring yo u  exciting opportunities and excellent value         Expedia Special Rate New York  s Empire Hotel from   An amazing value just steps from Central Park and Times Square     Expedia Cruises Seven day Mexican Riviera cruise from   See Puerto Vallarta Mazatl n Cabo Ask about free cabin upgrades     Expedia Ski Vacations Tahoe package from     Heavenly  snow and casino action Air three nights  hotel car extras     Away com Sail a windjammer off Costa Rica from    Two sail for the price of one in January free airfare in February a nd  March    IMAGE   IMAGE    Thank you for traveling with Expedia com     Expedia com Travel Team    Don t just travel Travel Right TM    http expedia com     IMAGE   FROM OUR SPONSORS    A world of gifts and savings at Away com  Discover treasures and gifts for everyone at Away com From Africa to  Australia gear to guidebooks and calendars to cookbooks a world of gifts  is a click away We have one of a kind gifts that will touch your spirit an d  spirit you away    IMAGE IMAGE   IMAGE  The airlines lowest published fares are the lowest roundtrip fares p ublished  by the airlines for your routes These fares may not be available on the da ys  you wish to travel Our Fare Calendar shows you when these fares are  available     The range of recent fare prices found by Expedia com customers the l owest  and highest fares found for your routes can help you determine the ideal  price for your route     All prices are quoted in US Dollars     About this mailing You are receiving this e mail because you are a  registered member of Expedia com     Questions Visit the Expedia com Customer Support Center     If you do not wish to receive any further Fare Tracker e mails from u s  please reply to this mail with unsubscribe in the subject line     Sorry but we can t reply to responses to Fare Tracker If you have q uestions  or want to give feedback please click here         Expedia Inc All rights reserved     This email was sent to kruscit ect enron com',\n",
              " 'Any word I ve been waiting for a while on this issue Kevin',\n",
              " 'Tell me about the new job What will you be doing Kevin',\n",
              " 'you obviously know the energy market better than most My guy at goldman Jonathan Raleigh has been on calpine for  years and has killed it so i m just following his lead as for the futile leadership in ca i agree wouldn t it be nice for you me tj and sweets to run a company or a state j Original Message Sent Friday March     AM Stamos Glad everyone had a good time at Sweets I hope he had a blast In terms of your email reply you can have Calpine How are they going to make money long term if price caps are instituted This obviously would be the stupidest policy In addition their exposure to the CA crisis must be pretty significant when and how are they going to get paid I wouldn t want to bank on the energy market in the most regulated state in the country Plus if the state backs energy purchases it s going to get to the point where who wants to own CA credit PG E and Edison International are doomed as they should be The state of CA is going to go down the tubes unless they find some good leadership Unfortunately noone out there seems to have the least clue on how to solve the problem The politicians are a complete joke It is incredibly disheartening to witness the absolute stupidity of the CA politicians in addressing this issue They seem to be much more focused on finger pointing than coming up with a viable solution I honestly think they are incable of solving the problem KR']"
            ]
          },
          "metadata": {},
          "execution_count": 24
        }
      ]
    },
    {
      "cell_type": "markdown",
      "source": [
        "Lowercase All Letters."
      ],
      "metadata": {
        "id": "r_Xll4d1OU_E"
      }
    },
    {
      "cell_type": "code",
      "source": [
        "def lowercase_letters(sentence):\n",
        "    return sentence.lower()\n",
        "\n",
        "lowecase_text_dataset = []\n",
        "\n",
        "for datum in erased_all_digits_dataset:\n",
        "  lowercase_letters_datum = lowercase_letters(datum)\n",
        "  lowecase_text_dataset.append(lowercase_letters_datum)\n",
        "\n",
        "lowecase_text_dataset[:10]"
      ],
      "metadata": {
        "colab": {
          "base_uri": "https://localhost:8080/"
        },
        "id": "s71tG3TrOdbj",
        "outputId": "9b4031ec-bd81-4088-833d-a2965373a9dc"
      },
      "execution_count": 25,
      "outputs": [
        {
          "output_type": "execute_result",
          "data": {
            "text/plain": [
              "['the attached file contains our latest daily volume requirements for   thru   doug kinney ph    fax       daily volsam xls',\n",
              " 'great to hear you ll be back soon get me a call when you get back in the states and tell that fathead i said hi kevin',\n",
              " 'kevin how s things been a while since we talked hope your jobs are going well and your wedding plans are proceeding smoothly did you get my e mail about running into mary eyre in the gym in san mateo spooky i ve seen her a couple more times but i haven t spoken to her i get in the properly pumped zone turns out there are a lot of classmates on the peninsula david park frank knifsend mary and james regan come to mind immediately no real news here we haven t broken anything in the house in a while so either we re getting luckier or we re due both jobs are very busy right now so the weekends are for recuperating this weekend of course will be for watching basketball hi to lisa let us know how you re doing regards tim sarhatt sr treasury analyst adaptive broadband tsarhatt adaptivebroadband com   ',\n",
              " 'forwarded by elisabeth a ruscitti hlp houind on      pm frank s moore      pm ron r russell hlp houind elisabeth a ruscitti hlp houind h ouind dave a gerberding rm houind houind kevin l davis rm houind houin d rudy pena pg houind houind tony j votano hlp houind hou ind california dreamin a very accurate cartoon frank moore project manager reliant energy solutions llc       california dreamin gif',\n",
              " 'hey kev good to hear from you hope all is well well we out here in the golden state could certainly use some help from you and the boys at enron gray davis is a little mouse that about describes most peoples opininion of him the power and natural gas situation out here is a mess the gas situation is much worse for us at this point here in long beach we haven t seen any power outages or any significant increase in our bill either the gas front is an entirely different matter i just paid a  bill for the month of dec i paid  for the same month in  the usage therms was the same figure that one out at that level i might as well be paying for heating oil in maine most people i talk to have scene their gas bill go up  or  fold anyway things could be a whole lot worse i guess luke just had his st birthday party this past weekend it was quite the scene i think his next party will be when he is  say hello to lisa for us tj see attached file  luke friendsplaymaracas jpg see attached file  lukescake jpg cc what planet did gray davis come from what s the perception of this guy in california hope all is well kr  luke friendsplaymaracas jpg  lukescake jpg',\n",
              " 'they need to go back to div iaa there currently children in a man s world',\n",
              " 'image  image expedia com fare tracker   image   dear kevin      feeling lucky head for vegas where the sun is shining and hotel r ates are  dropping right now you can book a room at one of sin city  s most eleg ant  hotels for a fraction of the normal cost     new york new york hotel and casino from   the rio all suites hotel and casino from   the mirage hotel and casino from      you  ll save  to  when you stay at an expedia special rate hot el look  for them in more than  other cities too      image  expedia com travel news   image   every week we bring you the latest fare sales and travel updates so you can  make exactly the right travel choices     london for less with british airways  right now you can get fabulous fares from the u s to london and nin e other  european cities including paris and rome new york to london is just   roundtrip book by january      save up to  on an alamo rental  rent an suv a mid size car a luxury car even a convertible from a lamo on  expedia com and you  ll save up to  hurry this deal ends january      buy with confidence at expedia com  our newly updated privacy statement has earned us the approval of  pricewaterhousecoopers llp truste and bbbonline we value your business  and your trust      image image        www expedia com   image    fare tracker summary   image  your fare tracker report   the airlines  lowest published fares plus the  range of fares found by expedia com travelers     what does airlines lowest published fare mean     want to change your fare tracker routes     check out all your route and fare options with our flight wizard     visit airline fare list to check out the airlines published fares on any  route    image image        www expedia com   image    special deals   image  best deals   the best offers and promotions at expedia com handpicked to bring yo u  exciting opportunities and excellent value         expedia special rate new york  s empire hotel from   an amazing value just steps from central park and times square     expedia cruises seven day mexican riviera cruise from   see puerto vallarta mazatl n cabo ask about free cabin upgrades     expedia ski vacations tahoe package from     heavenly  snow and casino action air three nights  hotel car extras     away com sail a windjammer off costa rica from    two sail for the price of one in january free airfare in february a nd  march    image   image    thank you for traveling with expedia com     expedia com travel team    don t just travel travel right tm    http expedia com     image   from our sponsors    a world of gifts and savings at away com  discover treasures and gifts for everyone at away com from africa to  australia gear to guidebooks and calendars to cookbooks a world of gifts  is a click away we have one of a kind gifts that will touch your spirit an d  spirit you away    image image   image  the airlines lowest published fares are the lowest roundtrip fares p ublished  by the airlines for your routes these fares may not be available on the da ys  you wish to travel our fare calendar shows you when these fares are  available     the range of recent fare prices found by expedia com customers the l owest  and highest fares found for your routes can help you determine the ideal  price for your route     all prices are quoted in us dollars     about this mailing you are receiving this e mail because you are a  registered member of expedia com     questions visit the expedia com customer support center     if you do not wish to receive any further fare tracker e mails from u s  please reply to this mail with unsubscribe in the subject line     sorry but we can t reply to responses to fare tracker if you have q uestions  or want to give feedback please click here         expedia inc all rights reserved     this email was sent to kruscit ect enron com',\n",
              " 'any word i ve been waiting for a while on this issue kevin',\n",
              " 'tell me about the new job what will you be doing kevin',\n",
              " 'you obviously know the energy market better than most my guy at goldman jonathan raleigh has been on calpine for  years and has killed it so i m just following his lead as for the futile leadership in ca i agree wouldn t it be nice for you me tj and sweets to run a company or a state j original message sent friday march     am stamos glad everyone had a good time at sweets i hope he had a blast in terms of your email reply you can have calpine how are they going to make money long term if price caps are instituted this obviously would be the stupidest policy in addition their exposure to the ca crisis must be pretty significant when and how are they going to get paid i wouldn t want to bank on the energy market in the most regulated state in the country plus if the state backs energy purchases it s going to get to the point where who wants to own ca credit pg e and edison international are doomed as they should be the state of ca is going to go down the tubes unless they find some good leadership unfortunately noone out there seems to have the least clue on how to solve the problem the politicians are a complete joke it is incredibly disheartening to witness the absolute stupidity of the ca politicians in addressing this issue they seem to be much more focused on finger pointing than coming up with a viable solution i honestly think they are incable of solving the problem kr']"
            ]
          },
          "metadata": {},
          "execution_count": 25
        }
      ]
    },
    {
      "cell_type": "markdown",
      "source": [
        "Performing Word Cloud."
      ],
      "metadata": {
        "id": "XWQjEHOTJwvr"
      }
    },
    {
      "cell_type": "code",
      "source": [],
      "metadata": {
        "id": "OxKzxVgrHw9O"
      },
      "execution_count": null,
      "outputs": []
    }
  ]
}