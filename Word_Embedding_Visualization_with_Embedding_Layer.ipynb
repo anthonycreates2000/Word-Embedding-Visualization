{
  "nbformat": 4,
  "nbformat_minor": 0,
  "metadata": {
    "colab": {
      "provenance": [],
      "authorship_tag": "ABX9TyMssubUnpiRvR3x0MtES5Ng"
    },
    "kernelspec": {
      "name": "python3",
      "display_name": "Python 3"
    },
    "language_info": {
      "name": "python"
    }
  },
  "cells": [
    {
      "cell_type": "markdown",
      "source": [
        "# Word Embedding Visualizations.\n",
        "\n",
        "Name: Anthony Kevin Oktavius\n",
        "\n",
        "Here, we'll experiment with various embedding layer, with these following techniques.\n",
        "\n",
        "* TF-IDF\n",
        "* Count Vectorizer\n",
        "* Word2Vec\n",
        "* Neural network embedding layer.\n",
        "\n",
        "As time passes, I'll try to add various  techniques. We also use dimensionality reduction technique to reduce the dimension of each layers, so we can visualize the dataset with matplotlib."
      ],
      "metadata": {
        "id": "sNWHeIp4459C"
      }
    },
    {
      "cell_type": "markdown",
      "source": [
        "Library Import"
      ],
      "metadata": {
        "id": "7WtfEkrp7ptb"
      }
    },
    {
      "cell_type": "code",
      "execution_count": 1,
      "metadata": {
        "id": "fm_rnRxy0vs5"
      },
      "outputs": [],
      "source": [
        "import numpy as np\n",
        "import zipfile\n",
        "import gc\n",
        "import pickle\n",
        "import cv2\n",
        "import math\n",
        "import warnings\n",
        "import random\n",
        "import os\n",
        "import glob\n",
        "import pandas as pd\n",
        "import matplotlib.pyplot as plt\n",
        "import seaborn as sns\n",
        "import albumentations as A\n",
        "import torchvision\n",
        "import torchvision.transforms.functional as TF\n",
        "import torchvision.transforms as transforms\n",
        "import torch.utils.data as data_utils\n",
        "import torch\n",
        "import torchvision\n",
        "import torchvision.transforms as transforms\n",
        "import torch.optim as optim\n",
        "import torch.nn as nn\n",
        "# import torchmetrics\n",
        "import torch.nn.functional as F\n",
        "import PIL\n",
        "import torch.utils.data as data_utils\n",
        "import pickle\n",
        "import collections\n",
        "\n",
        "# import pytorch_lightning as pl\n",
        "import imutils\n",
        "import zipfile\n",
        "\n",
        "from wordcloud import WordCloud\n",
        "from PIL import Image\n",
        "from torch.utils.data import Dataset\n",
        "from collections import defaultdict\n",
        "from sklearn.preprocessing import LabelBinarizer\n",
        "from sklearn.model_selection import train_test_split\n",
        "from sklearn.metrics import classification_report\n",
        "from tensorflow.python.client import device_lib\n",
        "from zipfile import ZipFile\n",
        "from IPython import display\n",
        "from torchvision import models, transforms\n",
        "from google.colab.patches import cv2_imshow\n",
        "from sklearn.metrics import confusion_matrix, roc_curve\n",
        "from sklearn.feature_extraction.text import CountVectorizer\n",
        "from google.colab.patches import cv2_imshow"
      ]
    },
    {
      "cell_type": "markdown",
      "source": [
        "Dataset Loading with OpinRank dataset."
      ],
      "metadata": {
        "id": "Kqql0aI8GMZH"
      }
    },
    {
      "cell_type": "code",
      "source": [
        "! wget https://www.cs.cmu.edu/~./enron/enron_mail_20150507.tar.gz"
      ],
      "metadata": {
        "colab": {
          "base_uri": "https://localhost:8080/"
        },
        "id": "McpD-7naGMSA",
        "outputId": "de963593-b394-44ee-a00b-31c49dbca373"
      },
      "execution_count": 2,
      "outputs": [
        {
          "output_type": "stream",
          "name": "stdout",
          "text": [
            "--2023-09-28 14:47:35--  https://www.cs.cmu.edu/~./enron/enron_mail_20150507.tar.gz\n",
            "Resolving www.cs.cmu.edu (www.cs.cmu.edu)... 128.2.42.95\n",
            "Connecting to www.cs.cmu.edu (www.cs.cmu.edu)|128.2.42.95|:443... connected.\n",
            "HTTP request sent, awaiting response... 200 OK\n",
            "Length: 443254787 (423M) [application/x-gzip]\n",
            "Saving to: ‘enron_mail_20150507.tar.gz’\n",
            "\n",
            "enron_mail_20150507 100%[===================>] 422.72M  1.57MB/s    in 4m 34s  \n",
            "\n",
            "2023-09-28 14:52:10 (1.54 MB/s) - ‘enron_mail_20150507.tar.gz’ saved [443254787/443254787]\n",
            "\n"
          ]
        }
      ]
    },
    {
      "cell_type": "markdown",
      "source": [
        "Unzip the dataset in tar file format."
      ],
      "metadata": {
        "id": "0Nwa7C1bPX03"
      }
    },
    {
      "cell_type": "code",
      "source": [
        "! tar -xzf /content/enron_mail_20150507.tar.gz"
      ],
      "metadata": {
        "id": "gkm9YuqOOpuk"
      },
      "execution_count": 3,
      "outputs": []
    },
    {
      "cell_type": "markdown",
      "source": [
        "## Data Preparation"
      ],
      "metadata": {
        "id": "NfU-zj5VJtkY"
      }
    },
    {
      "cell_type": "markdown",
      "source": [
        "Gather all of the email paths from all-documents folder."
      ],
      "metadata": {
        "id": "Vt0yDlpnU9r2"
      }
    },
    {
      "cell_type": "code",
      "source": [
        "root_path = \"maildir/\"\n",
        "email_paths_from_all_documents_folder = glob.glob(os.path.join(root_path, \"*/all_documents/*.\"))\n",
        "print(email_paths_from_all_documents_folder[:10])"
      ],
      "metadata": {
        "colab": {
          "base_uri": "https://localhost:8080/"
        },
        "id": "Es-jNkI7VCmg",
        "outputId": "bffb3c91-3c84-4961-dbba-72b7f230fd78"
      },
      "execution_count": 4,
      "outputs": [
        {
          "output_type": "stream",
          "name": "stdout",
          "text": [
            "['maildir/whalley-g/all_documents/54.', 'maildir/whalley-g/all_documents/226.', 'maildir/whalley-g/all_documents/344.', 'maildir/whalley-g/all_documents/302.', 'maildir/whalley-g/all_documents/299.', 'maildir/whalley-g/all_documents/64.', 'maildir/whalley-g/all_documents/193.', 'maildir/whalley-g/all_documents/103.', 'maildir/whalley-g/all_documents/104.', 'maildir/whalley-g/all_documents/358.']\n"
          ]
        }
      ]
    },
    {
      "cell_type": "markdown",
      "source": [
        "Get body email data, after X-Filename."
      ],
      "metadata": {
        "id": "9EtKQZn9SCd2"
      }
    },
    {
      "cell_type": "code",
      "source": [
        "print(\"Sample Email data: \")\n",
        "\n",
        "def read_file(path):\n",
        "  return open(path, \"r\")\n",
        "\n",
        "def get_body_email(text):\n",
        "  email_body_text_index = text.find(\"X-FileName: \")\n",
        "  body_email_text = text[email_body_text_index:]\n",
        "  return body_email_text.split(\"\\n\")[1:]\n",
        "\n",
        "sample_file = read_file(email_paths_from_all_documents_folder[0])\n",
        "sample_body_email_data = get_body_email(sample_file.read())\n",
        "\n",
        "for text_per_line in sample_body_email_data:\n",
        "  print(text_per_line)"
      ],
      "metadata": {
        "id": "EbYsRl1hTz9u",
        "colab": {
          "base_uri": "https://localhost:8080/"
        },
        "outputId": "f55ccef1-104c-45b4-cdaf-0635ff3fa109"
      },
      "execution_count": 29,
      "outputs": [
        {
          "output_type": "stream",
          "name": "stdout",
          "text": [
            "Sample Email data: \n",
            "\n",
            "Following please find the Daily EnronOnline Executive Summary.\n",
            "\n",
            "EnronOnline Executive Summary for 12/04/00\n",
            "Transaction Summary\t\n",
            "External Transactions Today\t5,500\n",
            "Average Daily External Transactions (30 day Trailing Avg)\t4,097\n",
            "Total Life to Date Transactions\t493,715\n",
            "\n",
            "EnronOnline Daily % of Entity's Total Transactions for 12/04/00\tTrans\tPercent\n",
            "Enron North America\t4,957\t80%\n",
            "Enron Europe Limited\t119\t27%\n",
            "Global Products\t224\t34%\n",
            "Enron Metals\t200\t8%\n",
            "\n",
            "EnronOnline Percentage of Total Corporate Transactions \n",
            "(30 day Trailing Avg)\t54%\n",
            "\n",
            "Gross Notional Value of EnronOnline Transactions\tTotal\n",
            "Today\t6,718,666,961\n",
            "MTD\t11,437,759,254\n",
            "LTD\t290,608,284,119\n",
            "Average Daily Notional Value (30 Day Trailing Avg)\t3,095,165,757\n",
            "\t\n",
            "Notional Revenue from Physical Flows to Date\t19,315,426,224\n",
            "\n",
            "Counterparties, Users, and Products Offered\t\n",
            "Counterparties having transacted to date\t593\n",
            "New Counterparties transacting for the first time today\t2\n",
            "Number of Products Offered Today\t1,138\n",
            "Total Number of External Users Logged on Today\t3,225\n",
            "Average # of External Users logged on (30 day Trailing Avg)\t2,890\n"
          ]
        }
      ]
    },
    {
      "cell_type": "markdown",
      "source": [
        "Putting it all together"
      ],
      "metadata": {
        "id": "SC9M0RBcb00D"
      }
    },
    {
      "cell_type": "code",
      "source": [
        "def get_dataset():\n",
        "  root_path = \"maildir/\"\n",
        "  email_paths_from_all_documents_folder = glob.glob(os.path.join(root_path, \"*/all_documents/*.\"))\n",
        "\n",
        "  dataset = []\n",
        "\n",
        "  for email_path in email_paths_from_all_documents_folder:\n",
        "    file_ = read_file(email_paths_from_all_documents_folder[0])\n",
        "    email_body = get_body_email(file_.read())\n",
        "    dataset.append(email_body)\n",
        "\n",
        "  return dataset\n",
        "\n",
        "dataset = get_dataset()\n",
        "print(f\"Number of data: {len(dataset)}\")\n",
        "dataset[:10]"
      ],
      "metadata": {
        "colab": {
          "base_uri": "https://localhost:8080/"
        },
        "id": "weowlaCPb0hI",
        "outputId": "9661b41b-45b5-47c4-80d8-b5f2a09ef783"
      },
      "execution_count": 34,
      "outputs": [
        {
          "output_type": "stream",
          "name": "stdout",
          "text": [
            "Number of data: 128103\n"
          ]
        },
        {
          "output_type": "execute_result",
          "data": {
            "text/plain": [
              "[['',\n",
              "  'Following please find the Daily EnronOnline Executive Summary.',\n",
              "  '',\n",
              "  'EnronOnline Executive Summary for 12/04/00',\n",
              "  'Transaction Summary\\t',\n",
              "  'External Transactions Today\\t5,500',\n",
              "  'Average Daily External Transactions (30 day Trailing Avg)\\t4,097',\n",
              "  'Total Life to Date Transactions\\t493,715',\n",
              "  '',\n",
              "  \"EnronOnline Daily % of Entity's Total Transactions for 12/04/00\\tTrans\\tPercent\",\n",
              "  'Enron North America\\t4,957\\t80%',\n",
              "  'Enron Europe Limited\\t119\\t27%',\n",
              "  'Global Products\\t224\\t34%',\n",
              "  'Enron Metals\\t200\\t8%',\n",
              "  '',\n",
              "  'EnronOnline Percentage of Total Corporate Transactions ',\n",
              "  '(30 day Trailing Avg)\\t54%',\n",
              "  '',\n",
              "  'Gross Notional Value of EnronOnline Transactions\\tTotal',\n",
              "  'Today\\t6,718,666,961',\n",
              "  'MTD\\t11,437,759,254',\n",
              "  'LTD\\t290,608,284,119',\n",
              "  'Average Daily Notional Value (30 Day Trailing Avg)\\t3,095,165,757',\n",
              "  '\\t',\n",
              "  'Notional Revenue from Physical Flows to Date\\t19,315,426,224',\n",
              "  '',\n",
              "  'Counterparties, Users, and Products Offered\\t',\n",
              "  'Counterparties having transacted to date\\t593',\n",
              "  'New Counterparties transacting for the first time today\\t2',\n",
              "  'Number of Products Offered Today\\t1,138',\n",
              "  'Total Number of External Users Logged on Today\\t3,225',\n",
              "  'Average # of External Users logged on (30 day Trailing Avg)\\t2,890'],\n",
              " ['',\n",
              "  'Following please find the Daily EnronOnline Executive Summary.',\n",
              "  '',\n",
              "  'EnronOnline Executive Summary for 12/04/00',\n",
              "  'Transaction Summary\\t',\n",
              "  'External Transactions Today\\t5,500',\n",
              "  'Average Daily External Transactions (30 day Trailing Avg)\\t4,097',\n",
              "  'Total Life to Date Transactions\\t493,715',\n",
              "  '',\n",
              "  \"EnronOnline Daily % of Entity's Total Transactions for 12/04/00\\tTrans\\tPercent\",\n",
              "  'Enron North America\\t4,957\\t80%',\n",
              "  'Enron Europe Limited\\t119\\t27%',\n",
              "  'Global Products\\t224\\t34%',\n",
              "  'Enron Metals\\t200\\t8%',\n",
              "  '',\n",
              "  'EnronOnline Percentage of Total Corporate Transactions ',\n",
              "  '(30 day Trailing Avg)\\t54%',\n",
              "  '',\n",
              "  'Gross Notional Value of EnronOnline Transactions\\tTotal',\n",
              "  'Today\\t6,718,666,961',\n",
              "  'MTD\\t11,437,759,254',\n",
              "  'LTD\\t290,608,284,119',\n",
              "  'Average Daily Notional Value (30 Day Trailing Avg)\\t3,095,165,757',\n",
              "  '\\t',\n",
              "  'Notional Revenue from Physical Flows to Date\\t19,315,426,224',\n",
              "  '',\n",
              "  'Counterparties, Users, and Products Offered\\t',\n",
              "  'Counterparties having transacted to date\\t593',\n",
              "  'New Counterparties transacting for the first time today\\t2',\n",
              "  'Number of Products Offered Today\\t1,138',\n",
              "  'Total Number of External Users Logged on Today\\t3,225',\n",
              "  'Average # of External Users logged on (30 day Trailing Avg)\\t2,890'],\n",
              " ['',\n",
              "  'Following please find the Daily EnronOnline Executive Summary.',\n",
              "  '',\n",
              "  'EnronOnline Executive Summary for 12/04/00',\n",
              "  'Transaction Summary\\t',\n",
              "  'External Transactions Today\\t5,500',\n",
              "  'Average Daily External Transactions (30 day Trailing Avg)\\t4,097',\n",
              "  'Total Life to Date Transactions\\t493,715',\n",
              "  '',\n",
              "  \"EnronOnline Daily % of Entity's Total Transactions for 12/04/00\\tTrans\\tPercent\",\n",
              "  'Enron North America\\t4,957\\t80%',\n",
              "  'Enron Europe Limited\\t119\\t27%',\n",
              "  'Global Products\\t224\\t34%',\n",
              "  'Enron Metals\\t200\\t8%',\n",
              "  '',\n",
              "  'EnronOnline Percentage of Total Corporate Transactions ',\n",
              "  '(30 day Trailing Avg)\\t54%',\n",
              "  '',\n",
              "  'Gross Notional Value of EnronOnline Transactions\\tTotal',\n",
              "  'Today\\t6,718,666,961',\n",
              "  'MTD\\t11,437,759,254',\n",
              "  'LTD\\t290,608,284,119',\n",
              "  'Average Daily Notional Value (30 Day Trailing Avg)\\t3,095,165,757',\n",
              "  '\\t',\n",
              "  'Notional Revenue from Physical Flows to Date\\t19,315,426,224',\n",
              "  '',\n",
              "  'Counterparties, Users, and Products Offered\\t',\n",
              "  'Counterparties having transacted to date\\t593',\n",
              "  'New Counterparties transacting for the first time today\\t2',\n",
              "  'Number of Products Offered Today\\t1,138',\n",
              "  'Total Number of External Users Logged on Today\\t3,225',\n",
              "  'Average # of External Users logged on (30 day Trailing Avg)\\t2,890'],\n",
              " ['',\n",
              "  'Following please find the Daily EnronOnline Executive Summary.',\n",
              "  '',\n",
              "  'EnronOnline Executive Summary for 12/04/00',\n",
              "  'Transaction Summary\\t',\n",
              "  'External Transactions Today\\t5,500',\n",
              "  'Average Daily External Transactions (30 day Trailing Avg)\\t4,097',\n",
              "  'Total Life to Date Transactions\\t493,715',\n",
              "  '',\n",
              "  \"EnronOnline Daily % of Entity's Total Transactions for 12/04/00\\tTrans\\tPercent\",\n",
              "  'Enron North America\\t4,957\\t80%',\n",
              "  'Enron Europe Limited\\t119\\t27%',\n",
              "  'Global Products\\t224\\t34%',\n",
              "  'Enron Metals\\t200\\t8%',\n",
              "  '',\n",
              "  'EnronOnline Percentage of Total Corporate Transactions ',\n",
              "  '(30 day Trailing Avg)\\t54%',\n",
              "  '',\n",
              "  'Gross Notional Value of EnronOnline Transactions\\tTotal',\n",
              "  'Today\\t6,718,666,961',\n",
              "  'MTD\\t11,437,759,254',\n",
              "  'LTD\\t290,608,284,119',\n",
              "  'Average Daily Notional Value (30 Day Trailing Avg)\\t3,095,165,757',\n",
              "  '\\t',\n",
              "  'Notional Revenue from Physical Flows to Date\\t19,315,426,224',\n",
              "  '',\n",
              "  'Counterparties, Users, and Products Offered\\t',\n",
              "  'Counterparties having transacted to date\\t593',\n",
              "  'New Counterparties transacting for the first time today\\t2',\n",
              "  'Number of Products Offered Today\\t1,138',\n",
              "  'Total Number of External Users Logged on Today\\t3,225',\n",
              "  'Average # of External Users logged on (30 day Trailing Avg)\\t2,890'],\n",
              " ['',\n",
              "  'Following please find the Daily EnronOnline Executive Summary.',\n",
              "  '',\n",
              "  'EnronOnline Executive Summary for 12/04/00',\n",
              "  'Transaction Summary\\t',\n",
              "  'External Transactions Today\\t5,500',\n",
              "  'Average Daily External Transactions (30 day Trailing Avg)\\t4,097',\n",
              "  'Total Life to Date Transactions\\t493,715',\n",
              "  '',\n",
              "  \"EnronOnline Daily % of Entity's Total Transactions for 12/04/00\\tTrans\\tPercent\",\n",
              "  'Enron North America\\t4,957\\t80%',\n",
              "  'Enron Europe Limited\\t119\\t27%',\n",
              "  'Global Products\\t224\\t34%',\n",
              "  'Enron Metals\\t200\\t8%',\n",
              "  '',\n",
              "  'EnronOnline Percentage of Total Corporate Transactions ',\n",
              "  '(30 day Trailing Avg)\\t54%',\n",
              "  '',\n",
              "  'Gross Notional Value of EnronOnline Transactions\\tTotal',\n",
              "  'Today\\t6,718,666,961',\n",
              "  'MTD\\t11,437,759,254',\n",
              "  'LTD\\t290,608,284,119',\n",
              "  'Average Daily Notional Value (30 Day Trailing Avg)\\t3,095,165,757',\n",
              "  '\\t',\n",
              "  'Notional Revenue from Physical Flows to Date\\t19,315,426,224',\n",
              "  '',\n",
              "  'Counterparties, Users, and Products Offered\\t',\n",
              "  'Counterparties having transacted to date\\t593',\n",
              "  'New Counterparties transacting for the first time today\\t2',\n",
              "  'Number of Products Offered Today\\t1,138',\n",
              "  'Total Number of External Users Logged on Today\\t3,225',\n",
              "  'Average # of External Users logged on (30 day Trailing Avg)\\t2,890'],\n",
              " ['',\n",
              "  'Following please find the Daily EnronOnline Executive Summary.',\n",
              "  '',\n",
              "  'EnronOnline Executive Summary for 12/04/00',\n",
              "  'Transaction Summary\\t',\n",
              "  'External Transactions Today\\t5,500',\n",
              "  'Average Daily External Transactions (30 day Trailing Avg)\\t4,097',\n",
              "  'Total Life to Date Transactions\\t493,715',\n",
              "  '',\n",
              "  \"EnronOnline Daily % of Entity's Total Transactions for 12/04/00\\tTrans\\tPercent\",\n",
              "  'Enron North America\\t4,957\\t80%',\n",
              "  'Enron Europe Limited\\t119\\t27%',\n",
              "  'Global Products\\t224\\t34%',\n",
              "  'Enron Metals\\t200\\t8%',\n",
              "  '',\n",
              "  'EnronOnline Percentage of Total Corporate Transactions ',\n",
              "  '(30 day Trailing Avg)\\t54%',\n",
              "  '',\n",
              "  'Gross Notional Value of EnronOnline Transactions\\tTotal',\n",
              "  'Today\\t6,718,666,961',\n",
              "  'MTD\\t11,437,759,254',\n",
              "  'LTD\\t290,608,284,119',\n",
              "  'Average Daily Notional Value (30 Day Trailing Avg)\\t3,095,165,757',\n",
              "  '\\t',\n",
              "  'Notional Revenue from Physical Flows to Date\\t19,315,426,224',\n",
              "  '',\n",
              "  'Counterparties, Users, and Products Offered\\t',\n",
              "  'Counterparties having transacted to date\\t593',\n",
              "  'New Counterparties transacting for the first time today\\t2',\n",
              "  'Number of Products Offered Today\\t1,138',\n",
              "  'Total Number of External Users Logged on Today\\t3,225',\n",
              "  'Average # of External Users logged on (30 day Trailing Avg)\\t2,890'],\n",
              " ['',\n",
              "  'Following please find the Daily EnronOnline Executive Summary.',\n",
              "  '',\n",
              "  'EnronOnline Executive Summary for 12/04/00',\n",
              "  'Transaction Summary\\t',\n",
              "  'External Transactions Today\\t5,500',\n",
              "  'Average Daily External Transactions (30 day Trailing Avg)\\t4,097',\n",
              "  'Total Life to Date Transactions\\t493,715',\n",
              "  '',\n",
              "  \"EnronOnline Daily % of Entity's Total Transactions for 12/04/00\\tTrans\\tPercent\",\n",
              "  'Enron North America\\t4,957\\t80%',\n",
              "  'Enron Europe Limited\\t119\\t27%',\n",
              "  'Global Products\\t224\\t34%',\n",
              "  'Enron Metals\\t200\\t8%',\n",
              "  '',\n",
              "  'EnronOnline Percentage of Total Corporate Transactions ',\n",
              "  '(30 day Trailing Avg)\\t54%',\n",
              "  '',\n",
              "  'Gross Notional Value of EnronOnline Transactions\\tTotal',\n",
              "  'Today\\t6,718,666,961',\n",
              "  'MTD\\t11,437,759,254',\n",
              "  'LTD\\t290,608,284,119',\n",
              "  'Average Daily Notional Value (30 Day Trailing Avg)\\t3,095,165,757',\n",
              "  '\\t',\n",
              "  'Notional Revenue from Physical Flows to Date\\t19,315,426,224',\n",
              "  '',\n",
              "  'Counterparties, Users, and Products Offered\\t',\n",
              "  'Counterparties having transacted to date\\t593',\n",
              "  'New Counterparties transacting for the first time today\\t2',\n",
              "  'Number of Products Offered Today\\t1,138',\n",
              "  'Total Number of External Users Logged on Today\\t3,225',\n",
              "  'Average # of External Users logged on (30 day Trailing Avg)\\t2,890'],\n",
              " ['',\n",
              "  'Following please find the Daily EnronOnline Executive Summary.',\n",
              "  '',\n",
              "  'EnronOnline Executive Summary for 12/04/00',\n",
              "  'Transaction Summary\\t',\n",
              "  'External Transactions Today\\t5,500',\n",
              "  'Average Daily External Transactions (30 day Trailing Avg)\\t4,097',\n",
              "  'Total Life to Date Transactions\\t493,715',\n",
              "  '',\n",
              "  \"EnronOnline Daily % of Entity's Total Transactions for 12/04/00\\tTrans\\tPercent\",\n",
              "  'Enron North America\\t4,957\\t80%',\n",
              "  'Enron Europe Limited\\t119\\t27%',\n",
              "  'Global Products\\t224\\t34%',\n",
              "  'Enron Metals\\t200\\t8%',\n",
              "  '',\n",
              "  'EnronOnline Percentage of Total Corporate Transactions ',\n",
              "  '(30 day Trailing Avg)\\t54%',\n",
              "  '',\n",
              "  'Gross Notional Value of EnronOnline Transactions\\tTotal',\n",
              "  'Today\\t6,718,666,961',\n",
              "  'MTD\\t11,437,759,254',\n",
              "  'LTD\\t290,608,284,119',\n",
              "  'Average Daily Notional Value (30 Day Trailing Avg)\\t3,095,165,757',\n",
              "  '\\t',\n",
              "  'Notional Revenue from Physical Flows to Date\\t19,315,426,224',\n",
              "  '',\n",
              "  'Counterparties, Users, and Products Offered\\t',\n",
              "  'Counterparties having transacted to date\\t593',\n",
              "  'New Counterparties transacting for the first time today\\t2',\n",
              "  'Number of Products Offered Today\\t1,138',\n",
              "  'Total Number of External Users Logged on Today\\t3,225',\n",
              "  'Average # of External Users logged on (30 day Trailing Avg)\\t2,890'],\n",
              " ['',\n",
              "  'Following please find the Daily EnronOnline Executive Summary.',\n",
              "  '',\n",
              "  'EnronOnline Executive Summary for 12/04/00',\n",
              "  'Transaction Summary\\t',\n",
              "  'External Transactions Today\\t5,500',\n",
              "  'Average Daily External Transactions (30 day Trailing Avg)\\t4,097',\n",
              "  'Total Life to Date Transactions\\t493,715',\n",
              "  '',\n",
              "  \"EnronOnline Daily % of Entity's Total Transactions for 12/04/00\\tTrans\\tPercent\",\n",
              "  'Enron North America\\t4,957\\t80%',\n",
              "  'Enron Europe Limited\\t119\\t27%',\n",
              "  'Global Products\\t224\\t34%',\n",
              "  'Enron Metals\\t200\\t8%',\n",
              "  '',\n",
              "  'EnronOnline Percentage of Total Corporate Transactions ',\n",
              "  '(30 day Trailing Avg)\\t54%',\n",
              "  '',\n",
              "  'Gross Notional Value of EnronOnline Transactions\\tTotal',\n",
              "  'Today\\t6,718,666,961',\n",
              "  'MTD\\t11,437,759,254',\n",
              "  'LTD\\t290,608,284,119',\n",
              "  'Average Daily Notional Value (30 Day Trailing Avg)\\t3,095,165,757',\n",
              "  '\\t',\n",
              "  'Notional Revenue from Physical Flows to Date\\t19,315,426,224',\n",
              "  '',\n",
              "  'Counterparties, Users, and Products Offered\\t',\n",
              "  'Counterparties having transacted to date\\t593',\n",
              "  'New Counterparties transacting for the first time today\\t2',\n",
              "  'Number of Products Offered Today\\t1,138',\n",
              "  'Total Number of External Users Logged on Today\\t3,225',\n",
              "  'Average # of External Users logged on (30 day Trailing Avg)\\t2,890'],\n",
              " ['',\n",
              "  'Following please find the Daily EnronOnline Executive Summary.',\n",
              "  '',\n",
              "  'EnronOnline Executive Summary for 12/04/00',\n",
              "  'Transaction Summary\\t',\n",
              "  'External Transactions Today\\t5,500',\n",
              "  'Average Daily External Transactions (30 day Trailing Avg)\\t4,097',\n",
              "  'Total Life to Date Transactions\\t493,715',\n",
              "  '',\n",
              "  \"EnronOnline Daily % of Entity's Total Transactions for 12/04/00\\tTrans\\tPercent\",\n",
              "  'Enron North America\\t4,957\\t80%',\n",
              "  'Enron Europe Limited\\t119\\t27%',\n",
              "  'Global Products\\t224\\t34%',\n",
              "  'Enron Metals\\t200\\t8%',\n",
              "  '',\n",
              "  'EnronOnline Percentage of Total Corporate Transactions ',\n",
              "  '(30 day Trailing Avg)\\t54%',\n",
              "  '',\n",
              "  'Gross Notional Value of EnronOnline Transactions\\tTotal',\n",
              "  'Today\\t6,718,666,961',\n",
              "  'MTD\\t11,437,759,254',\n",
              "  'LTD\\t290,608,284,119',\n",
              "  'Average Daily Notional Value (30 Day Trailing Avg)\\t3,095,165,757',\n",
              "  '\\t',\n",
              "  'Notional Revenue from Physical Flows to Date\\t19,315,426,224',\n",
              "  '',\n",
              "  'Counterparties, Users, and Products Offered\\t',\n",
              "  'Counterparties having transacted to date\\t593',\n",
              "  'New Counterparties transacting for the first time today\\t2',\n",
              "  'Number of Products Offered Today\\t1,138',\n",
              "  'Total Number of External Users Logged on Today\\t3,225',\n",
              "  'Average # of External Users logged on (30 day Trailing Avg)\\t2,890']]"
            ]
          },
          "metadata": {},
          "execution_count": 34
        }
      ]
    },
    {
      "cell_type": "markdown",
      "source": [
        "Performing Word Cloud."
      ],
      "metadata": {
        "id": "XWQjEHOTJwvr"
      }
    },
    {
      "cell_type": "code",
      "source": [],
      "metadata": {
        "id": "OxKzxVgrHw9O"
      },
      "execution_count": null,
      "outputs": []
    }
  ]
}